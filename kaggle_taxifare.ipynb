{
 "cells": [
  {
   "cell_type": "markdown",
   "metadata": {},
   "source": [
    "\n",
    "## Problem/Aim\n",
    "Utilize historical data to <b>predict ride cost</b>. \n",
    "\n",
    "## Questions:\n",
    "1. What is fare RMSE based on initial (limited features)?\n",
    "2. How does feature engineering improve fare RMSE?\n",
    "3. What is the best model for predicting fare?\n",
    "\n",
    "## Hypotheses:\n",
    "1. Distance traveled will scale in a postive and linear manner with fare_amount but demonstarte limited predictive power.\n",
    "2. Including additional spatial and temporal features will improve predictions.\n",
    "3. Random Forest Tree will improve predictions below $5.00 RMSE.\n"
   ]
  },
  {
   "cell_type": "code",
   "execution_count": 174,
   "metadata": {},
   "outputs": [],
   "source": [
    "import os, sys\n",
    "import pandas as pd\n",
    "import numpy as np\n",
    "from math import sin, cos, sqrt, atan2, radians\n",
    "import json\n",
    "import geopandas as gpd\n",
    "from shapely.geometry import shape, Point\n",
    "import matplotlib.pyplot as plt\n",
    "from mpl_toolkits.axes_grid1 import make_axes_locatable\n",
    "import seaborn as sns\n",
    "from scipy import stats\n",
    "from math import sqrt\n",
    "from sklearn import preprocessing\n",
    "from sklearn.model_selection import KFold\n",
    "from sklearn.metrics import mean_squared_error, r2_score\n",
    "from sklearn.model_selection import cross_val_score\n",
    "from sklearn.linear_model import LinearRegression\n",
    "from sklearn.tree import DecisionTreeRegressor\n",
    "from sklearn.ensemble import RandomForestRegressor\n",
    "import dask.dataframe as dd\n",
    "from functools import partial\n",
    "import multiprocessing\n",
    "import datetime\n",
    "from datetime import datetime\n",
    "from dateutil.parser import parse\n",
    "import code\n",
    "%matplotlib inline\n",
    "import warnings\n",
    "warnings.filterwarnings(\"ignore\")"
   ]
  },
  {
   "cell_type": "markdown",
   "metadata": {},
   "source": [
    "### 1) Pre-Process df"
   ]
  },
  {
   "cell_type": "code",
   "execution_count": 175,
   "metadata": {},
   "outputs": [],
   "source": [
    "class pre_process (object):\n",
    "    \n",
    "    def __init__(self, *args, **kwargs):\n",
    "        if 'chunk_size' in kwargs.keys():\n",
    "            self.chunk_size = kwargs['chunk_size']\n",
    "        else:\n",
    "            self.chunk_size = None\n",
    "        if 'df' in kwargs.keys():\n",
    "            self.df_train = kwargs['df']\n",
    "        else:\n",
    "            self.df_train = pd.DataFrame()\n",
    "    \n",
    "    def data_chunk_ingest (self, *args, **kwargs):\n",
    "        '''\n",
    "        Ingest data in chunks. \n",
    "        '''\n",
    "        try:\n",
    "            chunk_list = []  # append each chunk df here \n",
    "        \n",
    "            # Each chunk is in df format\n",
    "            for chunk in pd.read_csv(os.getcwd() + '/equinox_case_study_train.csv', nrows = self.chunk_size):  \n",
    "\n",
    "                # perform data filtering \n",
    "                chunk_filter = chunk_preprocessing(chunk)\n",
    "\n",
    "                # Once the data filtering is done, append the chunk to list\n",
    "                chunk_list.append(chunk_filter)\n",
    "\n",
    "            # concat the list into dataframe \n",
    "            self.df_train = pd.concat(chunk_list).reset_index(drop = True)\n",
    "\n",
    "            return self\n",
    "        except Exception as e:\n",
    "            print(e)\n",
    "    \n",
    "    def transform_datatype (self, *args, **kwargs):\n",
    "        \n",
    "        '''\n",
    "        TRANSFORM DATA TYPE - REDUCE MEMORY ALLOCATION\n",
    "        '''\n",
    "        \n",
    "        try:\n",
    "            for i, t in zip(self.df_train.dtypes.reset_index().rename(columns = {'index': 'col', 0: 'dtype'})['col'], self.df_train.dtypes.reset_index().rename(columns = {'index': 'col', 0: 'dtype'})['dtype']):\n",
    "                if t == 'float64':\n",
    "                    self.df_train[i] = self.df_train[i].astype('float32')\n",
    "                elif t == 'Int64':\n",
    "                    self.df_train[i] = self.df_train[i].astype('Int32')\n",
    "                elif t == 'object' and (isinstance(parse(self.df_train.at[0, i], fuzzy = False), datetime) == True):\n",
    "                    self.df_train[i] = pd.to_datetime(self.df_train[i], utc = True)\n",
    "                    self.df_train[i] = self.df_train[i].dt.tz_convert(kwargs['timezone'])\n",
    "                else:\n",
    "                    continue\n",
    "            \n",
    "            return self.df_train\n",
    "        except Exception as e:\n",
    "            print(e)\n",
    "\n",
    "        "
   ]
  },
  {
   "cell_type": "code",
   "execution_count": 176,
   "metadata": {},
   "outputs": [],
   "source": [
    "df_train = pd.read_csv(os.getcwd() + '/equinox_case_study_train.csv', nrows = 1000)"
   ]
  },
  {
   "cell_type": "code",
   "execution_count": 177,
   "metadata": {},
   "outputs": [
    {
     "data": {
      "text/html": [
       "<div>\n",
       "<style scoped>\n",
       "    .dataframe tbody tr th:only-of-type {\n",
       "        vertical-align: middle;\n",
       "    }\n",
       "\n",
       "    .dataframe tbody tr th {\n",
       "        vertical-align: top;\n",
       "    }\n",
       "\n",
       "    .dataframe thead th {\n",
       "        text-align: right;\n",
       "    }\n",
       "</style>\n",
       "<table border=\"1\" class=\"dataframe\">\n",
       "  <thead>\n",
       "    <tr style=\"text-align: right;\">\n",
       "      <th></th>\n",
       "      <th>fare_amount</th>\n",
       "      <th>pickup_longitude</th>\n",
       "      <th>pickup_latitude</th>\n",
       "      <th>dropoff_longitude</th>\n",
       "      <th>dropoff_latitude</th>\n",
       "      <th>passenger_count</th>\n",
       "    </tr>\n",
       "  </thead>\n",
       "  <tbody>\n",
       "    <tr>\n",
       "      <th>count</th>\n",
       "      <td>1000.000000</td>\n",
       "      <td>1000.000000</td>\n",
       "      <td>1000.000000</td>\n",
       "      <td>1000.000000</td>\n",
       "      <td>1000.000000</td>\n",
       "      <td>1000.000000</td>\n",
       "    </tr>\n",
       "    <tr>\n",
       "      <th>mean</th>\n",
       "      <td>11.469940</td>\n",
       "      <td>-72.126972</td>\n",
       "      <td>39.732521</td>\n",
       "      <td>-72.198714</td>\n",
       "      <td>39.773237</td>\n",
       "      <td>1.592000</td>\n",
       "    </tr>\n",
       "    <tr>\n",
       "      <th>std</th>\n",
       "      <td>9.499792</td>\n",
       "      <td>11.555398</td>\n",
       "      <td>6.365536</td>\n",
       "      <td>11.327382</td>\n",
       "      <td>6.240137</td>\n",
       "      <td>1.222715</td>\n",
       "    </tr>\n",
       "    <tr>\n",
       "      <th>min</th>\n",
       "      <td>2.500000</td>\n",
       "      <td>-74.438233</td>\n",
       "      <td>0.000000</td>\n",
       "      <td>-74.185996</td>\n",
       "      <td>0.000000</td>\n",
       "      <td>0.000000</td>\n",
       "    </tr>\n",
       "    <tr>\n",
       "      <th>25%</th>\n",
       "      <td>6.000000</td>\n",
       "      <td>-73.993044</td>\n",
       "      <td>40.735310</td>\n",
       "      <td>-73.991830</td>\n",
       "      <td>40.732978</td>\n",
       "      <td>1.000000</td>\n",
       "    </tr>\n",
       "    <tr>\n",
       "      <th>50%</th>\n",
       "      <td>8.500000</td>\n",
       "      <td>-73.982135</td>\n",
       "      <td>40.752876</td>\n",
       "      <td>-73.980246</td>\n",
       "      <td>40.753924</td>\n",
       "      <td>1.000000</td>\n",
       "    </tr>\n",
       "    <tr>\n",
       "      <th>75%</th>\n",
       "      <td>13.000000</td>\n",
       "      <td>-73.966590</td>\n",
       "      <td>40.766689</td>\n",
       "      <td>-73.962534</td>\n",
       "      <td>40.767705</td>\n",
       "      <td>2.000000</td>\n",
       "    </tr>\n",
       "    <tr>\n",
       "      <th>max</th>\n",
       "      <td>66.300000</td>\n",
       "      <td>0.000000</td>\n",
       "      <td>40.993260</td>\n",
       "      <td>0.000000</td>\n",
       "      <td>40.881878</td>\n",
       "      <td>6.000000</td>\n",
       "    </tr>\n",
       "  </tbody>\n",
       "</table>\n",
       "</div>"
      ],
      "text/plain": [
       "       fare_amount  pickup_longitude  pickup_latitude  dropoff_longitude  \\\n",
       "count  1000.000000       1000.000000      1000.000000        1000.000000   \n",
       "mean     11.469940        -72.126972        39.732521         -72.198714   \n",
       "std       9.499792         11.555398         6.365536          11.327382   \n",
       "min       2.500000        -74.438233         0.000000         -74.185996   \n",
       "25%       6.000000        -73.993044        40.735310         -73.991830   \n",
       "50%       8.500000        -73.982135        40.752876         -73.980246   \n",
       "75%      13.000000        -73.966590        40.766689         -73.962534   \n",
       "max      66.300000          0.000000        40.993260           0.000000   \n",
       "\n",
       "       dropoff_latitude  passenger_count  \n",
       "count       1000.000000      1000.000000  \n",
       "mean          39.773237         1.592000  \n",
       "std            6.240137         1.222715  \n",
       "min            0.000000         0.000000  \n",
       "25%           40.732978         1.000000  \n",
       "50%           40.753924         1.000000  \n",
       "75%           40.767705         2.000000  \n",
       "max           40.881878         6.000000  "
      ]
     },
     "execution_count": 177,
     "metadata": {},
     "output_type": "execute_result"
    }
   ],
   "source": [
    "df_train.describe()"
   ]
  },
  {
   "cell_type": "code",
   "execution_count": 178,
   "metadata": {},
   "outputs": [],
   "source": [
    "#read in data\n",
    "df_train = pd.read_csv(os.getcwd() + '/equinox_case_study_train.csv', nrows = 1000)\n",
    "\n",
    "#pre-process data\n",
    "df_train = pre_process(df = df_train).transform_datatype(timezone = 'US/Eastern')\n",
    "\n",
    "#drop unecessary columns and null rows.\n",
    "df_train = df_train.drop(columns = 'key').dropna().reset_index().rename(columns = {'index': 'id'})\n",
    "\n",
    "# latitudes range from 0 to 90. \n",
    "# longitudes range from 0 to 180\n",
    "df_train = df_train[\n",
    "                    (df_train['pickup_latitude'] <= 180.00000) & \n",
    "                    (df_train['dropoff_latitude'] <= 180.00000) & \n",
    "                    (df_train['pickup_longitude'] >= -90.00000)\n",
    "                ]"
   ]
  },
  {
   "cell_type": "code",
   "execution_count": 179,
   "metadata": {},
   "outputs": [
    {
     "data": {
      "text/html": [
       "<div>\n",
       "<style scoped>\n",
       "    .dataframe tbody tr th:only-of-type {\n",
       "        vertical-align: middle;\n",
       "    }\n",
       "\n",
       "    .dataframe tbody tr th {\n",
       "        vertical-align: top;\n",
       "    }\n",
       "\n",
       "    .dataframe thead th {\n",
       "        text-align: right;\n",
       "    }\n",
       "</style>\n",
       "<table border=\"1\" class=\"dataframe\">\n",
       "  <thead>\n",
       "    <tr style=\"text-align: right;\">\n",
       "      <th></th>\n",
       "      <th>id</th>\n",
       "      <th>fare_amount</th>\n",
       "      <th>pickup_datetime</th>\n",
       "      <th>pickup_longitude</th>\n",
       "      <th>pickup_latitude</th>\n",
       "      <th>dropoff_longitude</th>\n",
       "      <th>dropoff_latitude</th>\n",
       "      <th>passenger_count</th>\n",
       "    </tr>\n",
       "  </thead>\n",
       "  <tbody>\n",
       "    <tr>\n",
       "      <th>0</th>\n",
       "      <td>0</td>\n",
       "      <td>4.5</td>\n",
       "      <td>2009-06-15 13:26:21-04:00</td>\n",
       "      <td>-73.844315</td>\n",
       "      <td>40.721317</td>\n",
       "      <td>-73.841614</td>\n",
       "      <td>40.712276</td>\n",
       "      <td>1</td>\n",
       "    </tr>\n",
       "    <tr>\n",
       "      <th>1</th>\n",
       "      <td>1</td>\n",
       "      <td>16.9</td>\n",
       "      <td>2010-01-05 11:52:16-05:00</td>\n",
       "      <td>-74.016045</td>\n",
       "      <td>40.711304</td>\n",
       "      <td>-73.979271</td>\n",
       "      <td>40.782005</td>\n",
       "      <td>1</td>\n",
       "    </tr>\n",
       "    <tr>\n",
       "      <th>2</th>\n",
       "      <td>2</td>\n",
       "      <td>5.7</td>\n",
       "      <td>2011-08-17 20:35:00-04:00</td>\n",
       "      <td>-73.982735</td>\n",
       "      <td>40.761269</td>\n",
       "      <td>-73.991241</td>\n",
       "      <td>40.750561</td>\n",
       "      <td>2</td>\n",
       "    </tr>\n",
       "    <tr>\n",
       "      <th>3</th>\n",
       "      <td>3</td>\n",
       "      <td>7.7</td>\n",
       "      <td>2012-04-21 00:30:42-04:00</td>\n",
       "      <td>-73.987129</td>\n",
       "      <td>40.733143</td>\n",
       "      <td>-73.991570</td>\n",
       "      <td>40.758091</td>\n",
       "      <td>1</td>\n",
       "    </tr>\n",
       "    <tr>\n",
       "      <th>4</th>\n",
       "      <td>4</td>\n",
       "      <td>5.3</td>\n",
       "      <td>2010-03-09 02:51:00-05:00</td>\n",
       "      <td>-73.968094</td>\n",
       "      <td>40.768009</td>\n",
       "      <td>-73.956657</td>\n",
       "      <td>40.783764</td>\n",
       "      <td>1</td>\n",
       "    </tr>\n",
       "  </tbody>\n",
       "</table>\n",
       "</div>"
      ],
      "text/plain": [
       "   id  fare_amount           pickup_datetime  pickup_longitude  \\\n",
       "0   0          4.5 2009-06-15 13:26:21-04:00        -73.844315   \n",
       "1   1         16.9 2010-01-05 11:52:16-05:00        -74.016045   \n",
       "2   2          5.7 2011-08-17 20:35:00-04:00        -73.982735   \n",
       "3   3          7.7 2012-04-21 00:30:42-04:00        -73.987129   \n",
       "4   4          5.3 2010-03-09 02:51:00-05:00        -73.968094   \n",
       "\n",
       "   pickup_latitude  dropoff_longitude  dropoff_latitude  passenger_count  \n",
       "0        40.721317         -73.841614         40.712276                1  \n",
       "1        40.711304         -73.979271         40.782005                1  \n",
       "2        40.761269         -73.991241         40.750561                2  \n",
       "3        40.733143         -73.991570         40.758091                1  \n",
       "4        40.768009         -73.956657         40.783764                1  "
      ]
     },
     "execution_count": 179,
     "metadata": {},
     "output_type": "execute_result"
    }
   ],
   "source": [
    "df_train.head()"
   ]
  },
  {
   "cell_type": "code",
   "execution_count": 180,
   "metadata": {},
   "outputs": [
    {
     "data": {
      "text/html": [
       "<div>\n",
       "<style scoped>\n",
       "    .dataframe tbody tr th:only-of-type {\n",
       "        vertical-align: middle;\n",
       "    }\n",
       "\n",
       "    .dataframe tbody tr th {\n",
       "        vertical-align: top;\n",
       "    }\n",
       "\n",
       "    .dataframe thead th {\n",
       "        text-align: right;\n",
       "    }\n",
       "</style>\n",
       "<table border=\"1\" class=\"dataframe\">\n",
       "  <thead>\n",
       "    <tr style=\"text-align: right;\">\n",
       "      <th></th>\n",
       "      <th>id</th>\n",
       "      <th>fare_amount</th>\n",
       "      <th>pickup_longitude</th>\n",
       "      <th>pickup_latitude</th>\n",
       "      <th>dropoff_longitude</th>\n",
       "      <th>dropoff_latitude</th>\n",
       "      <th>passenger_count</th>\n",
       "    </tr>\n",
       "  </thead>\n",
       "  <tbody>\n",
       "    <tr>\n",
       "      <th>count</th>\n",
       "      <td>1000.000000</td>\n",
       "      <td>1000.000000</td>\n",
       "      <td>1000.000000</td>\n",
       "      <td>1000.000000</td>\n",
       "      <td>1000.000000</td>\n",
       "      <td>1000.000000</td>\n",
       "      <td>1000.000000</td>\n",
       "    </tr>\n",
       "    <tr>\n",
       "      <th>mean</th>\n",
       "      <td>499.500000</td>\n",
       "      <td>11.469939</td>\n",
       "      <td>-72.126968</td>\n",
       "      <td>39.732525</td>\n",
       "      <td>-72.198715</td>\n",
       "      <td>39.773239</td>\n",
       "      <td>1.592000</td>\n",
       "    </tr>\n",
       "    <tr>\n",
       "      <th>std</th>\n",
       "      <td>288.819436</td>\n",
       "      <td>9.499792</td>\n",
       "      <td>11.555399</td>\n",
       "      <td>6.365536</td>\n",
       "      <td>11.327382</td>\n",
       "      <td>6.240137</td>\n",
       "      <td>1.222715</td>\n",
       "    </tr>\n",
       "    <tr>\n",
       "      <th>min</th>\n",
       "      <td>0.000000</td>\n",
       "      <td>2.500000</td>\n",
       "      <td>-74.438232</td>\n",
       "      <td>0.000000</td>\n",
       "      <td>-74.185997</td>\n",
       "      <td>0.000000</td>\n",
       "      <td>0.000000</td>\n",
       "    </tr>\n",
       "    <tr>\n",
       "      <th>25%</th>\n",
       "      <td>249.750000</td>\n",
       "      <td>6.000000</td>\n",
       "      <td>-73.993042</td>\n",
       "      <td>40.735310</td>\n",
       "      <td>-73.991827</td>\n",
       "      <td>40.732977</td>\n",
       "      <td>1.000000</td>\n",
       "    </tr>\n",
       "    <tr>\n",
       "      <th>50%</th>\n",
       "      <td>499.500000</td>\n",
       "      <td>8.500000</td>\n",
       "      <td>-73.982136</td>\n",
       "      <td>40.752874</td>\n",
       "      <td>-73.980247</td>\n",
       "      <td>40.753925</td>\n",
       "      <td>1.000000</td>\n",
       "    </tr>\n",
       "    <tr>\n",
       "      <th>75%</th>\n",
       "      <td>749.250000</td>\n",
       "      <td>13.000000</td>\n",
       "      <td>-73.966591</td>\n",
       "      <td>40.766690</td>\n",
       "      <td>-73.962532</td>\n",
       "      <td>40.767706</td>\n",
       "      <td>2.000000</td>\n",
       "    </tr>\n",
       "    <tr>\n",
       "      <th>max</th>\n",
       "      <td>999.000000</td>\n",
       "      <td>66.300003</td>\n",
       "      <td>0.000000</td>\n",
       "      <td>40.993259</td>\n",
       "      <td>0.000000</td>\n",
       "      <td>40.881878</td>\n",
       "      <td>6.000000</td>\n",
       "    </tr>\n",
       "  </tbody>\n",
       "</table>\n",
       "</div>"
      ],
      "text/plain": [
       "                id  fare_amount  pickup_longitude  pickup_latitude  \\\n",
       "count  1000.000000  1000.000000       1000.000000      1000.000000   \n",
       "mean    499.500000    11.469939        -72.126968        39.732525   \n",
       "std     288.819436     9.499792         11.555399         6.365536   \n",
       "min       0.000000     2.500000        -74.438232         0.000000   \n",
       "25%     249.750000     6.000000        -73.993042        40.735310   \n",
       "50%     499.500000     8.500000        -73.982136        40.752874   \n",
       "75%     749.250000    13.000000        -73.966591        40.766690   \n",
       "max     999.000000    66.300003          0.000000        40.993259   \n",
       "\n",
       "       dropoff_longitude  dropoff_latitude  passenger_count  \n",
       "count        1000.000000       1000.000000      1000.000000  \n",
       "mean          -72.198715         39.773239         1.592000  \n",
       "std            11.327382          6.240137         1.222715  \n",
       "min           -74.185997          0.000000         0.000000  \n",
       "25%           -73.991827         40.732977         1.000000  \n",
       "50%           -73.980247         40.753925         1.000000  \n",
       "75%           -73.962532         40.767706         2.000000  \n",
       "max             0.000000         40.881878         6.000000  "
      ]
     },
     "execution_count": 180,
     "metadata": {},
     "output_type": "execute_result"
    }
   ],
   "source": [
    "df_train.describe()"
   ]
  },
  {
   "cell_type": "markdown",
   "metadata": {},
   "source": [
    "### 2) Exploratory Data Analysis (EDA)"
   ]
  },
  {
   "cell_type": "code",
   "execution_count": 181,
   "metadata": {},
   "outputs": [
    {
     "data": {
      "text/html": [
       "<div>\n",
       "<style scoped>\n",
       "    .dataframe tbody tr th:only-of-type {\n",
       "        vertical-align: middle;\n",
       "    }\n",
       "\n",
       "    .dataframe tbody tr th {\n",
       "        vertical-align: top;\n",
       "    }\n",
       "\n",
       "    .dataframe thead th {\n",
       "        text-align: right;\n",
       "    }\n",
       "</style>\n",
       "<table border=\"1\" class=\"dataframe\">\n",
       "  <thead>\n",
       "    <tr style=\"text-align: right;\">\n",
       "      <th></th>\n",
       "      <th>passenger_count</th>\n",
       "      <th>fare_amount</th>\n",
       "    </tr>\n",
       "    <tr>\n",
       "      <th>passenger_count</th>\n",
       "      <th></th>\n",
       "      <th></th>\n",
       "    </tr>\n",
       "  </thead>\n",
       "  <tbody>\n",
       "    <tr>\n",
       "      <th>0</th>\n",
       "      <td>3</td>\n",
       "      <td>15.133333</td>\n",
       "    </tr>\n",
       "    <tr>\n",
       "      <th>1</th>\n",
       "      <td>718</td>\n",
       "      <td>11.125404</td>\n",
       "    </tr>\n",
       "    <tr>\n",
       "      <th>2</th>\n",
       "      <td>151</td>\n",
       "      <td>13.130927</td>\n",
       "    </tr>\n",
       "    <tr>\n",
       "      <th>3</th>\n",
       "      <td>37</td>\n",
       "      <td>11.062973</td>\n",
       "    </tr>\n",
       "    <tr>\n",
       "      <th>4</th>\n",
       "      <td>16</td>\n",
       "      <td>11.268750</td>\n",
       "    </tr>\n",
       "    <tr>\n",
       "      <th>5</th>\n",
       "      <td>53</td>\n",
       "      <td>10.686792</td>\n",
       "    </tr>\n",
       "    <tr>\n",
       "      <th>6</th>\n",
       "      <td>22</td>\n",
       "      <td>13.531818</td>\n",
       "    </tr>\n",
       "  </tbody>\n",
       "</table>\n",
       "</div>"
      ],
      "text/plain": [
       "                 passenger_count  fare_amount\n",
       "passenger_count                              \n",
       "0                              3    15.133333\n",
       "1                            718    11.125404\n",
       "2                            151    13.130927\n",
       "3                             37    11.062973\n",
       "4                             16    11.268750\n",
       "5                             53    10.686792\n",
       "6                             22    13.531818"
      ]
     },
     "execution_count": 181,
     "metadata": {},
     "output_type": "execute_result"
    }
   ],
   "source": [
    "# Assess fare amount by # of passengers\n",
    "df_train.groupby('passenger_count').agg({'passenger_count': 'count', 'fare_amount': 'mean'})"
   ]
  },
  {
   "cell_type": "markdown",
   "metadata": {},
   "source": [
    "#### Outlier Detection/Visualization"
   ]
  },
  {
   "cell_type": "code",
   "execution_count": 182,
   "metadata": {},
   "outputs": [
    {
     "data": {
      "text/plain": [
       "Text(0.5, 1.0, 'Fare Amount by Passenger Count')"
      ]
     },
     "execution_count": 182,
     "metadata": {},
     "output_type": "execute_result"
    },
    {
     "data": {
      "image/png": "[encoded data removed]",
      "text/plain": [
       "<Figure size 432x288 with 1 Axes>"
      ]
     },
     "metadata": {
      "needs_background": "light"
     },
     "output_type": "display_data"
    }
   ],
   "source": [
    "sns.boxplot(x = 'passenger_count', y = 'fare_amount', data = df_train).set_title('Fare Amount by Passenger Count')"
   ]
  },
  {
   "cell_type": "code",
   "execution_count": 183,
   "metadata": {},
   "outputs": [
    {
     "data": {
      "text/plain": [
       "Text(0, 0.5, 'Density')"
      ]
     },
     "execution_count": 183,
     "metadata": {},
     "output_type": "execute_result"
    },
    {
     "data": {
      "image/png": "[encoded data removed]",
      "text/plain": [
       "<Figure size 432x288 with 1 Axes>"
      ]
     },
     "metadata": {
      "needs_background": "light"
     },
     "output_type": "display_data"
    }
   ],
   "source": [
    "#visualize distribution\n",
    "sns.distplot(df_train['fare_amount'], kde = True).set_ylabel('Density')"
   ]
  },
  {
   "cell_type": "code",
   "execution_count": 184,
   "metadata": {},
   "outputs": [],
   "source": [
    "df_train['log_fare_amount'] = np.log10(df_train['fare_amount'])\n"
   ]
  },
  {
   "cell_type": "code",
   "execution_count": 185,
   "metadata": {},
   "outputs": [
    {
     "data": {
      "text/plain": [
       "Text(0, 0.5, 'Density')"
      ]
     },
     "execution_count": 185,
     "metadata": {},
     "output_type": "execute_result"
    },
    {
     "data": {
      "image/png": "[encoded data removed]",
      "text/plain": [
       "<Figure size 432x288 with 1 Axes>"
      ]
     },
     "metadata": {
      "needs_background": "light"
     },
     "output_type": "display_data"
    }
   ],
   "source": [
    "sns.distplot(df_train['log_fare_amount'], kde = True).set_ylabel('Density')"
   ]
  },
  {
   "cell_type": "code",
   "execution_count": 186,
   "metadata": {},
   "outputs": [
    {
     "data": {
      "text/plain": [
       "Text(0.5, 1.0, 'Log Fare Amount by Passenger Count')"
      ]
     },
     "execution_count": 186,
     "metadata": {},
     "output_type": "execute_result"
    },
    {
     "data": {
      "image/png": "[encoded data removed]",
      "text/plain": [
       "<Figure size 432x288 with 1 Axes>"
      ]
     },
     "metadata": {
      "needs_background": "light"
     },
     "output_type": "display_data"
    }
   ],
   "source": [
    "sns.boxplot(x = 'passenger_count', y = 'log_fare_amount', data = df_train).set_title('Log Fare Amount by Passenger Count')"
   ]
  },
  {
   "cell_type": "code",
   "execution_count": 187,
   "metadata": {},
   "outputs": [
    {
     "data": {
      "text/plain": [
       "Text(0, 0.5, 'Density')"
      ]
     },
     "execution_count": 187,
     "metadata": {},
     "output_type": "execute_result"
    },
    {
     "data": {
      "image/png": "[encoded data removed]",
      "text/plain": [
       "<Figure size 432x288 with 1 Axes>"
      ]
     },
     "metadata": {
      "needs_background": "light"
     },
     "output_type": "display_data"
    }
   ],
   "source": [
    "std_dev = 3\n",
    "df = df_train[(np.abs(stats.zscore(df_train['fare_amount'])) < float(std_dev))]\n",
    "sns.distplot(df['fare_amount'], kde = True).set_ylabel('Density')"
   ]
  },
  {
   "cell_type": "code",
   "execution_count": 188,
   "metadata": {},
   "outputs": [
    {
     "data": {
      "text/plain": [
       "Text(0.5, 1.0, 'Fare Amount by Passenger Count')"
      ]
     },
     "execution_count": 188,
     "metadata": {},
     "output_type": "execute_result"
    },
    {
     "data": {
      "image/png": "[encoded data removed]",
      "text/plain": [
       "<Figure size 432x288 with 1 Axes>"
      ]
     },
     "metadata": {
      "needs_background": "light"
     },
     "output_type": "display_data"
    }
   ],
   "source": [
    "sns.boxplot(x = 'passenger_count', y = 'fare_amount', data = df).set_title('Fare Amount by Passenger Count')"
   ]
  },
  {
   "cell_type": "markdown",
   "metadata": {},
   "source": [
    "#### 2a) spatial EDA\n",
    "\n",
    "1. Distance between points\n",
    "2. Crossing bridge?\n",
    "3. location price changes. "
   ]
  },
  {
   "cell_type": "code",
   "execution_count": 189,
   "metadata": {},
   "outputs": [],
   "source": [
    "class spatial_features (object):\n",
    "    \n",
    "    def __init__(self, *args, **kwargs):\n",
    "        with open ('nyc_county_polygon_layer.json') as f:\n",
    "            self.nyc_county_shapefile = json.load(f)\n",
    "        self.R = 6373.0\n",
    "        if 'df' in kwargs.keys():\n",
    "            self.df_train = kwargs['df']\n",
    "        else:\n",
    "            self.df_train = pd.DataFrame()\n",
    "            \n",
    "        self.nyc_airports = {\n",
    "        \n",
    "                'JFK':{\n",
    "                        'min_lng': -73.8352,\n",
    "                        'min_lat': 40.6195,\n",
    "                        'max_lng': -73.7401, \n",
    "                        'max_lat': 40.6659\n",
    "                    },\n",
    "\n",
    "                'LGA':{\n",
    "                        'min_lng': -73.8895, \n",
    "                        'min_lat': 40.7664, \n",
    "                        'max_lng': -73.8550, \n",
    "                        'max_lat': 40.7931    \n",
    "                }\n",
    "            }\n",
    "            \n",
    "        self.boro_map = {\n",
    "        \n",
    "                \n",
    "                        'Bronx': 0,\n",
    "                        'Brooklyn': 1,\n",
    "                        'Manhattan': 2, \n",
    "                        'Staten Island': 3,\n",
    "                        'Queens': 4\n",
    "\n",
    "                }\n",
    "        \n",
    "    def pickup_location(self, *args, **kwargs):\n",
    "        \n",
    "        '''\n",
    "        Add pickup count column\n",
    "        '''\n",
    "        try:\n",
    "            self.df_train['pickup_county'] = None\n",
    "            for idx, lat_p, lon_p in zip(self.df_train.index, self.df_train['pickup_longitude'], self.df_train['pickup_latitude']):\n",
    "                point_pickup = Point (lat_p, lon_p)\n",
    "                for feature in self.nyc_county_shapefile['features']:\n",
    "                    county_polygon = shape(feature['geometry'])\n",
    "                    if county_polygon.contains(point_pickup):\n",
    "                        self.df_train.at[idx, 'pickup_county'] = feature['properties']['NAME']\n",
    "                    else:\n",
    "                        continue\n",
    "            self.df_train['pickup_county_transform'] = self.df_train['pickup_county'].map(self.boro_map).astype('Int32')\n",
    "            \n",
    "            return self.df_train\n",
    "        except Exception as e:\n",
    "            print(e)\n",
    "    \n",
    "    def dropoff_location(self, *args, **kwargs):\n",
    "\n",
    "        '''\n",
    "        Add dropoff county column\n",
    "        '''\n",
    "        try:\n",
    "            self.df_train['dropoff_county'] = None\n",
    "            for idx, lat_d, lon_d in zip(self.df_train.index, self.df_train['dropoff_longitude'], self.df_train['dropoff_latitude']):\n",
    "                point_dropoff = Point (lat_d, lon_d)\n",
    "                for feature in self.nyc_county_shapefile['features']:\n",
    "                    county_polygon = shape(feature['geometry'])\n",
    "                    if county_polygon.contains(point_dropoff):\n",
    "                        self.df_train.at[idx, 'dropoff_county'] = feature['properties']['NAME']\n",
    "                    else:\n",
    "                        continue\n",
    "            self.df_train['dropoff_county_transform'] = self.df_train['dropoff_county'].map(self.boro_map).astype('Int32')\n",
    "            \n",
    "            return self.df_train\n",
    "        except Exception as e:\n",
    "            print(e)\n",
    "    \n",
    "    def haversine_distance(self, *args, **kwargs):\n",
    "        \n",
    "        '''\n",
    "        Add Haversine distance column\n",
    "        ''' \n",
    "        try:\n",
    "            self.df_train['distance'] = None\n",
    "            # approximate radius of earth in km\n",
    "            for idx, lat_p, lon_p, lat_d, lon_d in zip(self.df_train.index, self.df_train['pickup_longitude'], self.df_train['pickup_latitude'], self.df_train['dropoff_longitude'], self.df_train['dropoff_latitude']):    \n",
    "                dlon = radians(lon_d) - radians(lon_p)\n",
    "                dlat = radians(lat_d) - radians(lat_p)\n",
    "                a = sin(dlat / 2)**2 + cos(radians(lat_p)) * cos(radians(lat_d)) * sin(dlon / 2)**2\n",
    "                c = 2 * atan2(sqrt(a), sqrt(1 - a))\n",
    "                self.df_train.at[idx, 'distance'] = self.R * c\n",
    "            self.df_train['distance'] = self.df_train['distance'].astype(float) #distance in km\n",
    "            self.df_train['distance'] = self.df_train['distance'] / 1.609344 # distance in mi\n",
    "            self.df_train = self.df_train[self.df_train['distance'] < 1000.00].reset_index(drop = True)\n",
    "            \n",
    "            return self.df_train\n",
    "        except Exception as e:\n",
    "            print(e)\n",
    "    \n",
    "    def left_boro(self, *args, **kwargs):\n",
    "            \n",
    "        '''\n",
    "        Add boro diff column\n",
    "        '''\n",
    "        try:\n",
    "            self.df_train['left_boro'] = None\n",
    "            for idx, pc, dc in zip(self.df_train.index, self.df_train['pickup_county'], self.df_train['dropoff_county']):\n",
    "                if pc == dc:\n",
    "                    self.df_train.at[idx, 'left_boro'] = 0\n",
    "                else:               \n",
    "                    self.df_train.at[idx, 'left_boro'] = 1\n",
    "            self.df_train['left_boro'] = self.df_train['left_boro'].astype('Int32')\n",
    "          \n",
    "            return self.df_train\n",
    "        except Exception as e:\n",
    "            print(e)\n",
    "            \n",
    "    def airport(self, *args, **kwargs):\n",
    "        \n",
    "        '''\n",
    "        Add airport column\n",
    "        '''\n",
    "        try:        \n",
    "            self.df_train['pickup_airport'] = None\n",
    "            self.df_train['dropoff_airport'] = None\n",
    "            \n",
    "            for airport in self.nyc_airports.keys():                \n",
    "                for idx, lat_p, lon_p, lat_d, lon_d in zip(self.df_train.index, self.df_train['pickup_longitude'], self.df_train['pickup_latitude'], self.df_train['dropoff_longitude'], self.df_train['dropoff_latitude']):\n",
    "                    if (lat_p >= self.nyc_airports[airport]['min_lat']) and (lat_p <= self.nyc_airports[airport]['max_lat']) and (lon_p >= self.nyc_airports[airport]['min_lng']) and (lon_p <= self.nyc_airports[airport]['max_lng']):\n",
    "                        self.df_train.at[idx, 'pickup_airport'] = 1\n",
    "                    elif (lat_d >= self.nyc_airports[airport]['min_lat']) and (lat_d <= self.nyc_airports[airport]['max_lat']) and (lon_d >= self.nyc_airports[airport]['min_lng']) and (lon_d <= self.nyc_airports[airport]['max_lng']):\n",
    "                        self.df_train.at[idx, 'dropoff_airport'] = 1\n",
    "                    else:\n",
    "                        self.df_train.at[idx, 'pickup_airport'] = 0\n",
    "                        self.df_train.at[idx, 'dropoff_airport'] = 0\n",
    "            self.df_train['pickup_airport'] = self.df_train['pickup_airport'].astype('Int32')\n",
    "            self.df_train['dropoff_airport'] = self.df_train['dropoff_airport'].astype('Int32')\n",
    "\n",
    "            return self.df_train\n",
    "        except Exception as e:\n",
    "            print (e)\n",
    " "
   ]
  },
  {
   "cell_type": "code",
   "execution_count": 190,
   "metadata": {},
   "outputs": [
    {
     "data": {
      "text/html": [
       "<div>\n",
       "<style scoped>\n",
       "    .dataframe tbody tr th:only-of-type {\n",
       "        vertical-align: middle;\n",
       "    }\n",
       "\n",
       "    .dataframe tbody tr th {\n",
       "        vertical-align: top;\n",
       "    }\n",
       "\n",
       "    .dataframe thead th {\n",
       "        text-align: right;\n",
       "    }\n",
       "</style>\n",
       "<table border=\"1\" class=\"dataframe\">\n",
       "  <thead>\n",
       "    <tr style=\"text-align: right;\">\n",
       "      <th></th>\n",
       "      <th>id</th>\n",
       "      <th>fare_amount</th>\n",
       "      <th>pickup_datetime</th>\n",
       "      <th>pickup_longitude</th>\n",
       "      <th>pickup_latitude</th>\n",
       "      <th>dropoff_longitude</th>\n",
       "      <th>dropoff_latitude</th>\n",
       "      <th>passenger_count</th>\n",
       "      <th>log_fare_amount</th>\n",
       "      <th>pickup_county</th>\n",
       "      <th>pickup_county_transform</th>\n",
       "      <th>dropoff_county</th>\n",
       "      <th>dropoff_county_transform</th>\n",
       "      <th>distance</th>\n",
       "      <th>left_boro</th>\n",
       "      <th>pickup_airport</th>\n",
       "      <th>dropoff_airport</th>\n",
       "    </tr>\n",
       "  </thead>\n",
       "  <tbody>\n",
       "    <tr>\n",
       "      <th>0</th>\n",
       "      <td>0</td>\n",
       "      <td>4.5</td>\n",
       "      <td>2009-06-15 13:26:21-04:00</td>\n",
       "      <td>-73.844315</td>\n",
       "      <td>40.721317</td>\n",
       "      <td>-73.841614</td>\n",
       "      <td>40.712276</td>\n",
       "      <td>1</td>\n",
       "      <td>0.653212</td>\n",
       "      <td>Queens</td>\n",
       "      <td>4</td>\n",
       "      <td>Queens</td>\n",
       "      <td>4</td>\n",
       "      <td>0.255105</td>\n",
       "      <td>0</td>\n",
       "      <td>0</td>\n",
       "      <td>0</td>\n",
       "    </tr>\n",
       "    <tr>\n",
       "      <th>1</th>\n",
       "      <td>1</td>\n",
       "      <td>16.9</td>\n",
       "      <td>2010-01-05 11:52:16-05:00</td>\n",
       "      <td>-74.016045</td>\n",
       "      <td>40.711304</td>\n",
       "      <td>-73.979271</td>\n",
       "      <td>40.782005</td>\n",
       "      <td>1</td>\n",
       "      <td>1.227887</td>\n",
       "      <td>Manhattan</td>\n",
       "      <td>2</td>\n",
       "      <td>Manhattan</td>\n",
       "      <td>2</td>\n",
       "      <td>2.876541</td>\n",
       "      <td>0</td>\n",
       "      <td>0</td>\n",
       "      <td>0</td>\n",
       "    </tr>\n",
       "    <tr>\n",
       "      <th>2</th>\n",
       "      <td>2</td>\n",
       "      <td>5.7</td>\n",
       "      <td>2011-08-17 20:35:00-04:00</td>\n",
       "      <td>-73.982735</td>\n",
       "      <td>40.761269</td>\n",
       "      <td>-73.991241</td>\n",
       "      <td>40.750561</td>\n",
       "      <td>2</td>\n",
       "      <td>0.755875</td>\n",
       "      <td>Manhattan</td>\n",
       "      <td>2</td>\n",
       "      <td>Manhattan</td>\n",
       "      <td>2</td>\n",
       "      <td>0.622382</td>\n",
       "      <td>0</td>\n",
       "      <td>0</td>\n",
       "      <td>0</td>\n",
       "    </tr>\n",
       "    <tr>\n",
       "      <th>3</th>\n",
       "      <td>3</td>\n",
       "      <td>7.7</td>\n",
       "      <td>2012-04-21 00:30:42-04:00</td>\n",
       "      <td>-73.987129</td>\n",
       "      <td>40.733143</td>\n",
       "      <td>-73.991570</td>\n",
       "      <td>40.758091</td>\n",
       "      <td>1</td>\n",
       "      <td>0.886491</td>\n",
       "      <td>Manhattan</td>\n",
       "      <td>2</td>\n",
       "      <td>Manhattan</td>\n",
       "      <td>2</td>\n",
       "      <td>0.566008</td>\n",
       "      <td>0</td>\n",
       "      <td>0</td>\n",
       "      <td>0</td>\n",
       "    </tr>\n",
       "    <tr>\n",
       "      <th>4</th>\n",
       "      <td>4</td>\n",
       "      <td>5.3</td>\n",
       "      <td>2010-03-09 02:51:00-05:00</td>\n",
       "      <td>-73.968094</td>\n",
       "      <td>40.768009</td>\n",
       "      <td>-73.956657</td>\n",
       "      <td>40.783764</td>\n",
       "      <td>1</td>\n",
       "      <td>0.724276</td>\n",
       "      <td>Manhattan</td>\n",
       "      <td>2</td>\n",
       "      <td>Manhattan</td>\n",
       "      <td>2</td>\n",
       "      <td>0.845741</td>\n",
       "      <td>0</td>\n",
       "      <td>0</td>\n",
       "      <td>0</td>\n",
       "    </tr>\n",
       "  </tbody>\n",
       "</table>\n",
       "</div>"
      ],
      "text/plain": [
       "   id  fare_amount           pickup_datetime  pickup_longitude  \\\n",
       "0   0          4.5 2009-06-15 13:26:21-04:00        -73.844315   \n",
       "1   1         16.9 2010-01-05 11:52:16-05:00        -74.016045   \n",
       "2   2          5.7 2011-08-17 20:35:00-04:00        -73.982735   \n",
       "3   3          7.7 2012-04-21 00:30:42-04:00        -73.987129   \n",
       "4   4          5.3 2010-03-09 02:51:00-05:00        -73.968094   \n",
       "\n",
       "   pickup_latitude  dropoff_longitude  dropoff_latitude  passenger_count  \\\n",
       "0        40.721317         -73.841614         40.712276                1   \n",
       "1        40.711304         -73.979271         40.782005                1   \n",
       "2        40.761269         -73.991241         40.750561                2   \n",
       "3        40.733143         -73.991570         40.758091                1   \n",
       "4        40.768009         -73.956657         40.783764                1   \n",
       "\n",
       "   log_fare_amount pickup_county  pickup_county_transform dropoff_county  \\\n",
       "0         0.653212        Queens                        4         Queens   \n",
       "1         1.227887     Manhattan                        2      Manhattan   \n",
       "2         0.755875     Manhattan                        2      Manhattan   \n",
       "3         0.886491     Manhattan                        2      Manhattan   \n",
       "4         0.724276     Manhattan                        2      Manhattan   \n",
       "\n",
       "   dropoff_county_transform  distance  left_boro  pickup_airport  \\\n",
       "0                         4  0.255105          0               0   \n",
       "1                         2  2.876541          0               0   \n",
       "2                         2  0.622382          0               0   \n",
       "3                         2  0.566008          0               0   \n",
       "4                         2  0.845741          0               0   \n",
       "\n",
       "   dropoff_airport  \n",
       "0                0  \n",
       "1                0  \n",
       "2                0  \n",
       "3                0  \n",
       "4                0  "
      ]
     },
     "execution_count": 190,
     "metadata": {},
     "output_type": "execute_result"
    }
   ],
   "source": [
    "#run several spatial_feature functions\n",
    "df_train = spatial_features(df = df_train).pickup_location()\n",
    "df_train = spatial_features(df = df_train).dropoff_location()\n",
    "df_train = spatial_features(df = df_train).haversine_distance()\n",
    "df_train = spatial_features(df = df_train).left_boro()\n",
    "df_train = spatial_features(df = df_train).airport()\n",
    "df_train.head()"
   ]
  },
  {
   "cell_type": "markdown",
   "metadata": {},
   "source": [
    "#### Visualize Pick-Ups and Drop-offs"
   ]
  },
  {
   "cell_type": "code",
   "execution_count": 191,
   "metadata": {},
   "outputs": [],
   "source": [
    "#import shapefile ny state.\n",
    "ny_state_county_shapefile = gpd.read_file('nyu_2451_34490/nyu_2451_34490.shp')"
   ]
  },
  {
   "cell_type": "code",
   "execution_count": 13,
   "metadata": {},
   "outputs": [
    {
     "data": {
      "text/plain": [
       "<matplotlib.axes._subplots.AxesSubplot at 0x130f615f8>"
      ]
     },
     "execution_count": 13,
     "metadata": {},
     "output_type": "execute_result"
    },
    {
     "data": {
      "image/png": "[encoded data removed]",
      "text/plain": [
       "<Figure size 432x288 with 2 Axes>"
      ]
     },
     "metadata": {
      "needs_background": "light"
     },
     "output_type": "display_data"
    }
   ],
   "source": [
    "#plot pickups counts\n",
    "df_train_pickup = df_train.groupby('pickup_county').count()['id'].reset_index()\n",
    "ny_state_county_shapefile_pickup = ny_state_county_shapefile.merge(\n",
    "                                                            df_train_pickup, how = 'left', left_on = 'bname', right_on = 'pickup_county'\n",
    "                                                        )\n",
    "ny_state_county_shapefile_pickup = ny_state_county_shapefile_pickup[\n",
    "                                                        (ny_state_county_shapefile_pickup['bname'] == 'Bronx') |\n",
    "                                                        (ny_state_county_shapefile_pickup['bname'] == 'Brooklyn') |\n",
    "                                                        (ny_state_county_shapefile_pickup['bname'] == 'Manhattan') | \n",
    "                                                        (ny_state_county_shapefile_pickup['bname'] == 'Staten Island') |\n",
    "                                                        (ny_state_county_shapefile_pickup['bname'] == 'Queens')]\n",
    "\n",
    "\n",
    "ny_state_county_shapefile_pickup['id'] = ny_state_county_shapefile_pickup['id'].astype('Int64').fillna(0)\n",
    "    \n",
    "\n",
    "fig, ax = plt.subplots(1, 1)\n",
    "divider = make_axes_locatable(ax)\n",
    "cax = divider.append_axes(\"right\", size = \"5%\", pad = 0.1)\n",
    "ny_state_county_shapefile_pickup.plot(column = 'id', ax = ax, legend = True, cax = cax)\n"
   ]
  },
  {
   "cell_type": "code",
   "execution_count": 14,
   "metadata": {},
   "outputs": [
    {
     "data": {
      "text/plain": [
       "<matplotlib.axes._subplots.AxesSubplot at 0x12e97ab38>"
      ]
     },
     "execution_count": 14,
     "metadata": {},
     "output_type": "execute_result"
    },
    {
     "data": {
      "image/png": "[encoded data removed]",
      "text/plain": [
       "<Figure size 432x288 with 2 Axes>"
      ]
     },
     "metadata": {
      "needs_background": "light"
     },
     "output_type": "display_data"
    }
   ],
   "source": [
    "#plot pickups counts\n",
    "df_train_dropoff = df_train.groupby('dropoff_county').count()['id'].reset_index()\n",
    "ny_state_county_shapefile_dropoff = ny_state_county_shapefile.merge(\n",
    "                                                            df_train_dropoff, how = 'left', left_on = 'bname', right_on = 'dropoff_county'\n",
    "                                                        )\n",
    "ny_state_county_shapefile_dropoff = ny_state_county_shapefile_dropoff[\n",
    "                                                        (ny_state_county_shapefile_dropoff['bname'] == 'Bronx') |\n",
    "                                                        (ny_state_county_shapefile_dropoff['bname'] == 'Brooklyn') |\n",
    "                                                        (ny_state_county_shapefile_dropoff['bname'] == 'Manhattan') | \n",
    "                                                        (ny_state_county_shapefile_dropoff['bname'] == 'Staten Island') |\n",
    "                                                        (ny_state_county_shapefile_dropoff['bname'] == 'Queens')]\n",
    "\n",
    "\n",
    "ny_state_county_shapefile_dropoff['id'] = ny_state_county_shapefile_dropoff['id'].astype('Int64').fillna(0)\n",
    "    \n",
    "\n",
    "fig, ax = plt.subplots(1, 1)\n",
    "divider = make_axes_locatable(ax)\n",
    "cax = divider.append_axes(\"right\", size = \"5%\", pad = 0.1)\n",
    "ny_state_county_shapefile_dropoff.plot(column = 'id', ax = ax, legend = True, cax = cax)\n"
   ]
  },
  {
   "cell_type": "code",
   "execution_count": 15,
   "metadata": {},
   "outputs": [
    {
     "data": {
      "text/plain": [
       "Text(0.5, 1.0, 'Log Fare Amount by Pickup County')"
      ]
     },
     "execution_count": 15,
     "metadata": {},
     "output_type": "execute_result"
    },
    {
     "data": {
      "image/png": "[encoded data removed]",
      "text/plain": [
       "<Figure size 432x288 with 1 Axes>"
      ]
     },
     "metadata": {
      "needs_background": "light"
     },
     "output_type": "display_data"
    }
   ],
   "source": [
    "sns.boxplot(x = 'left_boro', y = 'log_fare_amount', data = df_train).set_title('Log Fare Amount by Pickup County')"
   ]
  },
  {
   "cell_type": "code",
   "execution_count": 16,
   "metadata": {},
   "outputs": [
    {
     "data": {
      "text/plain": [
       "Text(0.5, 1.0, 'Log Fare Amount by Pickup County')"
      ]
     },
     "execution_count": 16,
     "metadata": {},
     "output_type": "execute_result"
    },
    {
     "data": {
      "image/png": "[encoded data removed]",
      "text/plain": [
       "<Figure size 432x288 with 1 Axes>"
      ]
     },
     "metadata": {
      "needs_background": "light"
     },
     "output_type": "display_data"
    }
   ],
   "source": [
    "sns.boxplot(x = 'pickup_county', y = 'log_fare_amount', data = df_train).set_title('Log Fare Amount by Pickup County')"
   ]
  },
  {
   "cell_type": "code",
   "execution_count": 17,
   "metadata": {},
   "outputs": [
    {
     "data": {
      "text/plain": [
       "Text(0.5, 1.0, 'Log Fare Amount by Pickup County')"
      ]
     },
     "execution_count": 17,
     "metadata": {},
     "output_type": "execute_result"
    },
    {
     "data": {
      "image/png": "[encoded data removed]",
      "text/plain": [
       "<Figure size 432x288 with 1 Axes>"
      ]
     },
     "metadata": {
      "needs_background": "light"
     },
     "output_type": "display_data"
    }
   ],
   "source": [
    "sns.boxplot(x = 'dropoff_county', y = 'log_fare_amount', data = df_train).set_title('Log Fare Amount by Pickup County')"
   ]
  },
  {
   "cell_type": "code",
   "execution_count": 18,
   "metadata": {},
   "outputs": [
    {
     "data": {
      "text/plain": [
       "Text(0.5, 1.0, 'Distance vs. Fare_Amount')"
      ]
     },
     "execution_count": 18,
     "metadata": {},
     "output_type": "execute_result"
    },
    {
     "data": {
      "image/png": "[encoded data removed]",
      "text/plain": [
       "<Figure size 432x288 with 1 Axes>"
      ]
     },
     "metadata": {
      "needs_background": "light"
     },
     "output_type": "display_data"
    }
   ],
   "source": [
    "sns.scatterplot(x = 'distance', y = 'fare_amount', data = df_train).set_title('Distance vs. Fare_Amount')"
   ]
  },
  {
   "cell_type": "markdown",
   "metadata": {},
   "source": [
    "#### 2b) Temporal EDA\n",
    "\n",
    "1. Does price increase by date?"
   ]
  },
  {
   "cell_type": "code",
   "execution_count": 192,
   "metadata": {},
   "outputs": [],
   "source": [
    "class temporal_features (object):\n",
    "    \n",
    "    def __init__(self, *args, **kwargs):\n",
    "\n",
    "        if 'df' in kwargs.keys():\n",
    "            self.df_train = kwargs['df']\n",
    "        else:\n",
    "            self.df_train = pd.DataFrame()\n",
    "            \n",
    "    def year_month_day_hour_transform (self, *args, **kwargs):\n",
    "        try:\n",
    "            self.df_train['unique_year'] = self.df_train['pickup_datetime'].dt.to_period('Y')\n",
    "            self.df_train['year'] = df_train['pickup_datetime'].dt.year\n",
    "            self.df_train['unique_month'] = self.df_train['pickup_datetime'].dt.to_period('M')\n",
    "            self.df_train['month'] = self.df_train['pickup_datetime'].dt.month\n",
    "            self.df_train['unique_day'] = self.df_train['pickup_datetime'].dt.to_period('D')\n",
    "            self.df_train['day'] = self.df_train['pickup_datetime'].dt.day\n",
    "            self.df_train['unique_hour'] = self.df_train['pickup_datetime'].dt.to_period('H')\n",
    "            self.df_train['hour'] = self.df_train['pickup_datetime'].dt.hour\n",
    "\n",
    "            return self.df_train\n",
    "        except Exception as e:\n",
    "            print(e)\n"
   ]
  },
  {
   "cell_type": "code",
   "execution_count": 193,
   "metadata": {},
   "outputs": [
    {
     "data": {
      "text/html": [
       "<div>\n",
       "<style scoped>\n",
       "    .dataframe tbody tr th:only-of-type {\n",
       "        vertical-align: middle;\n",
       "    }\n",
       "\n",
       "    .dataframe tbody tr th {\n",
       "        vertical-align: top;\n",
       "    }\n",
       "\n",
       "    .dataframe thead th {\n",
       "        text-align: right;\n",
       "    }\n",
       "</style>\n",
       "<table border=\"1\" class=\"dataframe\">\n",
       "  <thead>\n",
       "    <tr style=\"text-align: right;\">\n",
       "      <th></th>\n",
       "      <th>id</th>\n",
       "      <th>fare_amount</th>\n",
       "      <th>pickup_datetime</th>\n",
       "      <th>pickup_longitude</th>\n",
       "      <th>pickup_latitude</th>\n",
       "      <th>dropoff_longitude</th>\n",
       "      <th>dropoff_latitude</th>\n",
       "      <th>passenger_count</th>\n",
       "      <th>log_fare_amount</th>\n",
       "      <th>pickup_county</th>\n",
       "      <th>...</th>\n",
       "      <th>pickup_airport</th>\n",
       "      <th>dropoff_airport</th>\n",
       "      <th>unique_year</th>\n",
       "      <th>year</th>\n",
       "      <th>unique_month</th>\n",
       "      <th>month</th>\n",
       "      <th>unique_day</th>\n",
       "      <th>day</th>\n",
       "      <th>unique_hour</th>\n",
       "      <th>hour</th>\n",
       "    </tr>\n",
       "  </thead>\n",
       "  <tbody>\n",
       "    <tr>\n",
       "      <th>0</th>\n",
       "      <td>0</td>\n",
       "      <td>4.5</td>\n",
       "      <td>2009-06-15 13:26:21-04:00</td>\n",
       "      <td>-73.844315</td>\n",
       "      <td>40.721317</td>\n",
       "      <td>-73.841614</td>\n",
       "      <td>40.712276</td>\n",
       "      <td>1</td>\n",
       "      <td>0.653212</td>\n",
       "      <td>Queens</td>\n",
       "      <td>...</td>\n",
       "      <td>0</td>\n",
       "      <td>0</td>\n",
       "      <td>2009</td>\n",
       "      <td>2009</td>\n",
       "      <td>2009-06</td>\n",
       "      <td>6</td>\n",
       "      <td>2009-06-15</td>\n",
       "      <td>15</td>\n",
       "      <td>2009-06-15 13:00</td>\n",
       "      <td>13</td>\n",
       "    </tr>\n",
       "    <tr>\n",
       "      <th>1</th>\n",
       "      <td>1</td>\n",
       "      <td>16.9</td>\n",
       "      <td>2010-01-05 11:52:16-05:00</td>\n",
       "      <td>-74.016045</td>\n",
       "      <td>40.711304</td>\n",
       "      <td>-73.979271</td>\n",
       "      <td>40.782005</td>\n",
       "      <td>1</td>\n",
       "      <td>1.227887</td>\n",
       "      <td>Manhattan</td>\n",
       "      <td>...</td>\n",
       "      <td>0</td>\n",
       "      <td>0</td>\n",
       "      <td>2010</td>\n",
       "      <td>2010</td>\n",
       "      <td>2010-01</td>\n",
       "      <td>1</td>\n",
       "      <td>2010-01-05</td>\n",
       "      <td>5</td>\n",
       "      <td>2010-01-05 11:00</td>\n",
       "      <td>11</td>\n",
       "    </tr>\n",
       "    <tr>\n",
       "      <th>2</th>\n",
       "      <td>2</td>\n",
       "      <td>5.7</td>\n",
       "      <td>2011-08-17 20:35:00-04:00</td>\n",
       "      <td>-73.982735</td>\n",
       "      <td>40.761269</td>\n",
       "      <td>-73.991241</td>\n",
       "      <td>40.750561</td>\n",
       "      <td>2</td>\n",
       "      <td>0.755875</td>\n",
       "      <td>Manhattan</td>\n",
       "      <td>...</td>\n",
       "      <td>0</td>\n",
       "      <td>0</td>\n",
       "      <td>2011</td>\n",
       "      <td>2011</td>\n",
       "      <td>2011-08</td>\n",
       "      <td>8</td>\n",
       "      <td>2011-08-17</td>\n",
       "      <td>17</td>\n",
       "      <td>2011-08-17 20:00</td>\n",
       "      <td>20</td>\n",
       "    </tr>\n",
       "    <tr>\n",
       "      <th>3</th>\n",
       "      <td>3</td>\n",
       "      <td>7.7</td>\n",
       "      <td>2012-04-21 00:30:42-04:00</td>\n",
       "      <td>-73.987129</td>\n",
       "      <td>40.733143</td>\n",
       "      <td>-73.991570</td>\n",
       "      <td>40.758091</td>\n",
       "      <td>1</td>\n",
       "      <td>0.886491</td>\n",
       "      <td>Manhattan</td>\n",
       "      <td>...</td>\n",
       "      <td>0</td>\n",
       "      <td>0</td>\n",
       "      <td>2012</td>\n",
       "      <td>2012</td>\n",
       "      <td>2012-04</td>\n",
       "      <td>4</td>\n",
       "      <td>2012-04-21</td>\n",
       "      <td>21</td>\n",
       "      <td>2012-04-21 00:00</td>\n",
       "      <td>0</td>\n",
       "    </tr>\n",
       "    <tr>\n",
       "      <th>4</th>\n",
       "      <td>4</td>\n",
       "      <td>5.3</td>\n",
       "      <td>2010-03-09 02:51:00-05:00</td>\n",
       "      <td>-73.968094</td>\n",
       "      <td>40.768009</td>\n",
       "      <td>-73.956657</td>\n",
       "      <td>40.783764</td>\n",
       "      <td>1</td>\n",
       "      <td>0.724276</td>\n",
       "      <td>Manhattan</td>\n",
       "      <td>...</td>\n",
       "      <td>0</td>\n",
       "      <td>0</td>\n",
       "      <td>2010</td>\n",
       "      <td>2010</td>\n",
       "      <td>2010-03</td>\n",
       "      <td>3</td>\n",
       "      <td>2010-03-09</td>\n",
       "      <td>9</td>\n",
       "      <td>2010-03-09 02:00</td>\n",
       "      <td>2</td>\n",
       "    </tr>\n",
       "  </tbody>\n",
       "</table>\n",
       "<p>5 rows × 25 columns</p>\n",
       "</div>"
      ],
      "text/plain": [
       "   id  fare_amount           pickup_datetime  pickup_longitude  \\\n",
       "0   0          4.5 2009-06-15 13:26:21-04:00        -73.844315   \n",
       "1   1         16.9 2010-01-05 11:52:16-05:00        -74.016045   \n",
       "2   2          5.7 2011-08-17 20:35:00-04:00        -73.982735   \n",
       "3   3          7.7 2012-04-21 00:30:42-04:00        -73.987129   \n",
       "4   4          5.3 2010-03-09 02:51:00-05:00        -73.968094   \n",
       "\n",
       "   pickup_latitude  dropoff_longitude  dropoff_latitude  passenger_count  \\\n",
       "0        40.721317         -73.841614         40.712276                1   \n",
       "1        40.711304         -73.979271         40.782005                1   \n",
       "2        40.761269         -73.991241         40.750561                2   \n",
       "3        40.733143         -73.991570         40.758091                1   \n",
       "4        40.768009         -73.956657         40.783764                1   \n",
       "\n",
       "   log_fare_amount pickup_county  ...  pickup_airport dropoff_airport  \\\n",
       "0         0.653212        Queens  ...               0               0   \n",
       "1         1.227887     Manhattan  ...               0               0   \n",
       "2         0.755875     Manhattan  ...               0               0   \n",
       "3         0.886491     Manhattan  ...               0               0   \n",
       "4         0.724276     Manhattan  ...               0               0   \n",
       "\n",
       "   unique_year  year  unique_month  month  unique_day day       unique_hour  \\\n",
       "0         2009  2009       2009-06      6  2009-06-15  15  2009-06-15 13:00   \n",
       "1         2010  2010       2010-01      1  2010-01-05   5  2010-01-05 11:00   \n",
       "2         2011  2011       2011-08      8  2011-08-17  17  2011-08-17 20:00   \n",
       "3         2012  2012       2012-04      4  2012-04-21  21  2012-04-21 00:00   \n",
       "4         2010  2010       2010-03      3  2010-03-09   9  2010-03-09 02:00   \n",
       "\n",
       "  hour  \n",
       "0   13  \n",
       "1   11  \n",
       "2   20  \n",
       "3    0  \n",
       "4    2  \n",
       "\n",
       "[5 rows x 25 columns]"
      ]
     },
     "execution_count": 193,
     "metadata": {},
     "output_type": "execute_result"
    }
   ],
   "source": [
    "df_train = temporal_features(df = df_train).year_month_day_hour_transform()\n",
    "# df_train = pre_process(df = df_train).process_fare()\n",
    "df_train.head()"
   ]
  },
  {
   "cell_type": "code",
   "execution_count": 21,
   "metadata": {},
   "outputs": [],
   "source": [
    "a = df_train.groupby('hour').agg({'fare_amount': 'mean', 'log_fare_amount': 'mean','passenger_count': 'mean'})[['fare_amount', 'passenger_count']].reset_index()"
   ]
  },
  {
   "cell_type": "code",
   "execution_count": 22,
   "metadata": {},
   "outputs": [
    {
     "data": {
      "text/plain": [
       "<matplotlib.axes._subplots.AxesSubplot at 0x132a84320>"
      ]
     },
     "execution_count": 22,
     "metadata": {},
     "output_type": "execute_result"
    },
    {
     "data": {
      "image/png": "[encoded data removed]",
      "text/plain": [
       "<Figure size 432x288 with 1 Axes>"
      ]
     },
     "metadata": {
      "needs_background": "light"
     },
     "output_type": "display_data"
    }
   ],
   "source": [
    "#fare by year\n",
    "# df_train_year = df_train.set_index('pickup_datetime').groupby(pd.Grouper(freq = 'Y')).agg({'fare_amount': 'mean', 'passenger_count': 'sum'})[['fare_amount', 'passenger_count']].reset_index(drop = False)\n",
    "df_train_year = df_train.groupby('year').agg({'fare_amount': 'mean', 'log_fare_amount': 'mean','passenger_count': 'mean'})[['fare_amount', 'log_fare_amount', 'passenger_count']].reset_index(drop = False)\n",
    "sns.lineplot(x = \"year\", y = \"log_fare_amount\", data = df_train_year)"
   ]
  },
  {
   "cell_type": "code",
   "execution_count": 23,
   "metadata": {},
   "outputs": [
    {
     "data": {
      "text/plain": [
       "<matplotlib.axes._subplots.AxesSubplot at 0x132500e48>"
      ]
     },
     "execution_count": 23,
     "metadata": {},
     "output_type": "execute_result"
    },
    {
     "data": {
      "image/png": "[encoded data removed]",
      "text/plain": [
       "<Figure size 432x288 with 1 Axes>"
      ]
     },
     "metadata": {
      "needs_background": "light"
     },
     "output_type": "display_data"
    }
   ],
   "source": [
    "# df_train_month = df_train.set_index('pickup_datetime').groupby(pd.Grouper(freq = 'M')).agg({'fare_amount': 'mean', 'passenger_count': 'sum'})[['fare_amount', 'passenger_count']].reset_index(drop = False)\n",
    "df_train_month = df_train.groupby('month').agg({'fare_amount': 'mean', 'log_fare_amount': 'mean','passenger_count': 'mean'})[['fare_amount', 'log_fare_amount', 'passenger_count']].reset_index(drop = False)\n",
    "sns.lineplot(x = \"month\", y = \"log_fare_amount\", data = df_train_month)"
   ]
  },
  {
   "cell_type": "code",
   "execution_count": 24,
   "metadata": {},
   "outputs": [
    {
     "data": {
      "text/plain": [
       "<matplotlib.axes._subplots.AxesSubplot at 0x13253ffd0>"
      ]
     },
     "execution_count": 24,
     "metadata": {},
     "output_type": "execute_result"
    },
    {
     "data": {
      "image/png": "[encoded data removed]",
      "text/plain": [
       "<Figure size 432x288 with 1 Axes>"
      ]
     },
     "metadata": {
      "needs_background": "light"
     },
     "output_type": "display_data"
    }
   ],
   "source": [
    "# df_train_day = df_train.set_index('pickup_datetime').groupby(pd.Grouper(freq = 'D')).agg({'fare_amount': 'mean', 'passenger_count': 'sum'})[['fare_amount', 'passenger_count']].reset_index(drop = False)\n",
    "df_train_day = df_train.groupby('day').agg({'fare_amount': 'mean', 'log_fare_amount': 'mean','passenger_count': 'mean'})[['fare_amount', 'log_fare_amount', 'passenger_count']].reset_index(drop = False)\n",
    "sns.lineplot(x = \"day\", y = \"log_fare_amount\", data = df_train_day)"
   ]
  },
  {
   "cell_type": "code",
   "execution_count": 25,
   "metadata": {},
   "outputs": [
    {
     "data": {
      "text/plain": [
       "<matplotlib.axes._subplots.AxesSubplot at 0x133a42748>"
      ]
     },
     "execution_count": 25,
     "metadata": {},
     "output_type": "execute_result"
    },
    {
     "data": {
      "image/png": "[encoded data removed]",
      "text/plain": [
       "<Figure size 432x288 with 1 Axes>"
      ]
     },
     "metadata": {
      "needs_background": "light"
     },
     "output_type": "display_data"
    }
   ],
   "source": [
    "# df_train_hour = df_train.set_index('pickup_datetime').groupby(pd.Grouper(freq = 'H')).agg({'fare_amount': 'mean', 'passenger_count': 'sum'})[['fare_amount', 'passenger_count']].reset_index(drop = False)\n",
    "df_train_hour = df_train.groupby('hour').agg({'fare_amount': 'mean', 'log_fare_amount': 'mean','passenger_count': 'mean'})[['fare_amount', 'log_fare_amount', 'passenger_count']].reset_index(drop = False)\n",
    "sns.lineplot(x = \"hour\", y = \"log_fare_amount\", data = df_train_hour)"
   ]
  },
  {
   "cell_type": "markdown",
   "metadata": {},
   "source": [
    "### Model Creation\n",
    "\n",
    "We've now prepared a dataframe with several spatial and temporal features to be used as predictors for the target fare_amount. We will attempt to start simple with a simple linear regression and progress to more sophisticated machine learning algorithms. \n",
    "\n",
    "1. Simple Linear Regression\n",
    "2. Regression Tree Regression\n",
    "3. Random Forrest Regression"
   ]
  },
  {
   "cell_type": "code",
   "execution_count": 194,
   "metadata": {},
   "outputs": [],
   "source": [
    "#read in data\n",
    "df_test = pd.read_csv(os.getcwd() + '/equinox_case_study_test.csv', nrows = 1000)\n",
    "\n",
    "#pre-process data\n",
    "df_test = pre_process(df = df_test).transform_datatype(timezone = 'US/Eastern')\n",
    "\n",
    "#drop unecessary columns and null rows.\n",
    "df_test = df_test.drop(columns = 'key').dropna().reset_index().rename(columns = {'index': 'id'})\n",
    "\n",
    "# latitudes range from 0 to 90. \n",
    "# longitudes range from 0 to 180\n",
    "df_test = df_test[\n",
    "                    (df_test['pickup_latitude'] <= 180.00000) & \n",
    "                    (df_test['dropoff_latitude'] <= 180.00000) & \n",
    "                    (df_test['pickup_longitude'] >= -90.00000)\n",
    "                ]\n",
    "\n",
    "df_test = spatial_features(df = df_test).pickup_location()\n",
    "df_test = spatial_features(df = df_test).dropoff_location()\n",
    "df_test = spatial_features(df = df_test).haversine_distance()\n",
    "df_test = spatial_features(df = df_test).left_boro()\n",
    "df_test = spatial_features(df = df_test).airport()\n",
    "df_test = temporal_features(df = df_test).year_month_day_hour_transform()"
   ]
  },
  {
   "cell_type": "code",
   "execution_count": 203,
   "metadata": {},
   "outputs": [
    {
     "name": "stdout",
     "output_type": "stream",
     "text": [
      "scores (rmse): [0.6084946416129509, 0.8129461572383148, 0.6452506443170101]\n",
      "regression coefficient: [[3.18859879]]\n",
      "avgroot mean score: 0.8299982817589194\n"
     ]
    },
    {
     "data": {
      "text/html": [
       "<div>\n",
       "<style scoped>\n",
       "    .dataframe tbody tr th:only-of-type {\n",
       "        vertical-align: middle;\n",
       "    }\n",
       "\n",
       "    .dataframe tbody tr th {\n",
       "        vertical-align: top;\n",
       "    }\n",
       "\n",
       "    .dataframe thead th {\n",
       "        text-align: right;\n",
       "    }\n",
       "</style>\n",
       "<table border=\"1\" class=\"dataframe\">\n",
       "  <thead>\n",
       "    <tr style=\"text-align: right;\">\n",
       "      <th></th>\n",
       "      <th>distance</th>\n",
       "      <th>year</th>\n",
       "      <th>hour</th>\n",
       "      <th>day</th>\n",
       "      <th>fare_amount</th>\n",
       "    </tr>\n",
       "  </thead>\n",
       "  <tbody>\n",
       "    <tr>\n",
       "      <th>0</th>\n",
       "      <td>7.857889</td>\n",
       "      <td>2009</td>\n",
       "      <td>17</td>\n",
       "      <td>15</td>\n",
       "      <td>31.798056</td>\n",
       "    </tr>\n",
       "    <tr>\n",
       "      <th>1</th>\n",
       "      <td>2.818116</td>\n",
       "      <td>2010</td>\n",
       "      <td>6</td>\n",
       "      <td>26</td>\n",
       "      <td>15.139137</td>\n",
       "    </tr>\n",
       "    <tr>\n",
       "      <th>2</th>\n",
       "      <td>1.141736</td>\n",
       "      <td>2011</td>\n",
       "      <td>3</td>\n",
       "      <td>5</td>\n",
       "      <td>9.597881</td>\n",
       "    </tr>\n",
       "    <tr>\n",
       "      <th>3</th>\n",
       "      <td>0.709107</td>\n",
       "      <td>2012</td>\n",
       "      <td>12</td>\n",
       "      <td>19</td>\n",
       "      <td>8.167830</td>\n",
       "    </tr>\n",
       "    <tr>\n",
       "      <th>4</th>\n",
       "      <td>13.002423</td>\n",
       "      <td>2010</td>\n",
       "      <td>12</td>\n",
       "      <td>15</td>\n",
       "      <td>48.803259</td>\n",
       "    </tr>\n",
       "    <tr>\n",
       "      <th>5</th>\n",
       "      <td>0.353007</td>\n",
       "      <td>2011</td>\n",
       "      <td>10</td>\n",
       "      <td>27</td>\n",
       "      <td>6.990747</td>\n",
       "    </tr>\n",
       "    <tr>\n",
       "      <th>6</th>\n",
       "      <td>2.650899</td>\n",
       "      <td>2012</td>\n",
       "      <td>4</td>\n",
       "      <td>14</td>\n",
       "      <td>14.586403</td>\n",
       "    </tr>\n",
       "    <tr>\n",
       "      <th>7</th>\n",
       "      <td>3.513837</td>\n",
       "      <td>2012</td>\n",
       "      <td>15</td>\n",
       "      <td>17</td>\n",
       "      <td>17.438835</td>\n",
       "    </tr>\n",
       "    <tr>\n",
       "      <th>8</th>\n",
       "      <td>0.390760</td>\n",
       "      <td>2012</td>\n",
       "      <td>10</td>\n",
       "      <td>17</td>\n",
       "      <td>7.115537</td>\n",
       "    </tr>\n",
       "    <tr>\n",
       "      <th>9</th>\n",
       "      <td>0.875856</td>\n",
       "      <td>2009</td>\n",
       "      <td>11</td>\n",
       "      <td>1</td>\n",
       "      <td>8.719018</td>\n",
       "    </tr>\n",
       "    <tr>\n",
       "      <th>10</th>\n",
       "      <td>6.485516</td>\n",
       "      <td>2012</td>\n",
       "      <td>6</td>\n",
       "      <td>23</td>\n",
       "      <td>27.261691</td>\n",
       "    </tr>\n",
       "  </tbody>\n",
       "</table>\n",
       "</div>"
      ],
      "text/plain": [
       "     distance  year  hour  day  fare_amount\n",
       "0    7.857889  2009    17   15    31.798056\n",
       "1    2.818116  2010     6   26    15.139137\n",
       "2    1.141736  2011     3    5     9.597881\n",
       "3    0.709107  2012    12   19     8.167830\n",
       "4   13.002423  2010    12   15    48.803259\n",
       "5    0.353007  2011    10   27     6.990747\n",
       "6    2.650899  2012     4   14    14.586403\n",
       "7    3.513837  2012    15   17    17.438835\n",
       "8    0.390760  2012    10   17     7.115537\n",
       "9    0.875856  2009    11    1     8.719018\n",
       "10   6.485516  2012     6   23    27.261691"
      ]
     },
     "execution_count": 203,
     "metadata": {},
     "output_type": "execute_result"
    }
   ],
   "source": [
    "# Linear Regression\n",
    "X_train = pd.DataFrame(df_train['distance'])\n",
    "y_train = pd.DataFrame(df_train['fare_amount'])\n",
    "\n",
    "# model creation\n",
    "model_lr = LinearRegression()\n",
    "scores = []\n",
    "rmse = []\n",
    "r2 = []\n",
    "\n",
    "kfold = KFold(n_splits = 3, shuffle = True, random_state = 42)\n",
    "for i, (train, test) in enumerate(kfold.split(X_train, y_train)):\n",
    "    model_lr.fit(X_train.iloc[train,:], y_train.iloc[train,:])\n",
    "    scores.append(model_lr.score(X_train.iloc[test,:], y_train.iloc[test,:]))\n",
    "    rmse.append(sqrt(mean_squared_error(X_train.iloc[test,:], y_train.iloc[test,:])))\n",
    "    r2.append(r2_score(X_train.iloc[test,:], y_train.iloc[test,:]))\n",
    "print('scores (rmse):', scores)\n",
    "print('regression coefficient:', model_lr.coef_)\n",
    "\n",
    "# print('r2:', r2)\n",
    "\n",
    "# score = cross_val_score(model_lr, X_train, y_train, scoring = 'neg_mean_squared_error', cv = kfold, n_jobs=1)\n",
    "# print('score:', model_dt.score(X_train.iloc[test,:], y_train.iloc[test,:]))\n",
    "# scores.append(model_lr.score(X_train.iloc[test,:], y_train.iloc[test,:]))\n",
    "# print('-'*75)\n",
    "\n",
    "print('avgroot mean score:', sqrt(abs(np.mean(scores))))\n",
    "\n",
    "# Make predictions using the testing set\n",
    "df_test = df_test.dropna()\n",
    "model_lr = LinearRegression().fit(X_train, y_train)\n",
    "df_test_y_pred = model_lr.predict(pd.DataFrame(df_test['distance']))\n",
    "df_test['fare_amount'] = df_test_y_pred\n",
    "# df_test['fare_amount'] = np.exp(df_test_y_pred) #transform from log scale pred.\n",
    "df_test.loc[:10, ['distance', 'year', 'hour', 'day', 'fare_amount']]"
   ]
  },
  {
   "cell_type": "code",
   "execution_count": 201,
   "metadata": {},
   "outputs": [
    {
     "name": "stdout",
     "output_type": "stream",
     "text": [
      "                   Predictor  Importance Score\n",
      "0                   distance          0.952390\n",
      "1                       year          0.019809\n",
      "2                       hour          0.016777\n",
      "3                        day          0.008497\n",
      "4                      month          0.002527\n",
      "5            passenger_count          0.000000\n",
      "6    pickup_county_transform          0.000000\n",
      "7   dropoff_county_transform          0.000000\n",
      "8                  left_boro          0.000000\n",
      "9             pickup_airport          0.000000\n",
      "10           dropoff_airport          0.000000\n",
      "score: 0.5982025611021793\n",
      "---------------------------------------------------------------------------\n",
      "                   Predictor  Importance Score\n",
      "0                   distance          0.960850\n",
      "1                       year          0.012960\n",
      "2                        day          0.012726\n",
      "3                      month          0.010489\n",
      "4            passenger_count          0.001603\n",
      "5                       hour          0.001373\n",
      "6    pickup_county_transform          0.000000\n",
      "7   dropoff_county_transform          0.000000\n",
      "8                  left_boro          0.000000\n",
      "9             pickup_airport          0.000000\n",
      "10           dropoff_airport          0.000000\n",
      "score: 0.749155536241761\n",
      "---------------------------------------------------------------------------\n",
      "                   Predictor  Importance Score\n",
      "0                   distance          0.956201\n",
      "1                  left_boro          0.017694\n",
      "2                       hour          0.012449\n",
      "3                       year          0.007470\n",
      "4                        day          0.004679\n",
      "5                      month          0.001039\n",
      "6            passenger_count          0.000469\n",
      "7    pickup_county_transform          0.000000\n",
      "8   dropoff_county_transform          0.000000\n",
      "9             pickup_airport          0.000000\n",
      "10           dropoff_airport          0.000000\n",
      "score: 0.6619052697803993\n",
      "---------------------------------------------------------------------------\n",
      "root mean score: 0.818385273393964\n",
      "                   Predictor  Importance Score\n",
      "0                   distance          0.927748\n",
      "1   dropoff_county_transform          0.027887\n",
      "2                       year          0.017167\n",
      "3                       hour          0.014916\n",
      "4                  left_boro          0.005835\n",
      "5                        day          0.003370\n",
      "6                      month          0.003078\n",
      "7            passenger_count          0.000000\n",
      "8    pickup_county_transform          0.000000\n",
      "9             pickup_airport          0.000000\n",
      "10           dropoff_airport          0.000000\n"
     ]
    },
    {
     "data": {
      "text/html": [
       "<div>\n",
       "<style scoped>\n",
       "    .dataframe tbody tr th:only-of-type {\n",
       "        vertical-align: middle;\n",
       "    }\n",
       "\n",
       "    .dataframe tbody tr th {\n",
       "        vertical-align: top;\n",
       "    }\n",
       "\n",
       "    .dataframe thead th {\n",
       "        text-align: right;\n",
       "    }\n",
       "</style>\n",
       "<table border=\"1\" class=\"dataframe\">\n",
       "  <thead>\n",
       "    <tr style=\"text-align: right;\">\n",
       "      <th></th>\n",
       "      <th>distance</th>\n",
       "      <th>left_boro</th>\n",
       "      <th>year</th>\n",
       "      <th>hour</th>\n",
       "      <th>day</th>\n",
       "      <th>fare_amount</th>\n",
       "    </tr>\n",
       "  </thead>\n",
       "  <tbody>\n",
       "    <tr>\n",
       "      <th>0</th>\n",
       "      <td>7.857889</td>\n",
       "      <td>1</td>\n",
       "      <td>2009</td>\n",
       "      <td>17</td>\n",
       "      <td>15</td>\n",
       "      <td>34.072857</td>\n",
       "    </tr>\n",
       "    <tr>\n",
       "      <th>1</th>\n",
       "      <td>2.818116</td>\n",
       "      <td>0</td>\n",
       "      <td>2010</td>\n",
       "      <td>6</td>\n",
       "      <td>26</td>\n",
       "      <td>15.420000</td>\n",
       "    </tr>\n",
       "    <tr>\n",
       "      <th>2</th>\n",
       "      <td>1.141736</td>\n",
       "      <td>0</td>\n",
       "      <td>2011</td>\n",
       "      <td>3</td>\n",
       "      <td>5</td>\n",
       "      <td>19.940000</td>\n",
       "    </tr>\n",
       "    <tr>\n",
       "      <th>3</th>\n",
       "      <td>0.709107</td>\n",
       "      <td>0</td>\n",
       "      <td>2012</td>\n",
       "      <td>12</td>\n",
       "      <td>19</td>\n",
       "      <td>5.130000</td>\n",
       "    </tr>\n",
       "    <tr>\n",
       "      <th>4</th>\n",
       "      <td>13.002423</td>\n",
       "      <td>1</td>\n",
       "      <td>2010</td>\n",
       "      <td>12</td>\n",
       "      <td>15</td>\n",
       "      <td>49.393889</td>\n",
       "    </tr>\n",
       "    <tr>\n",
       "      <th>5</th>\n",
       "      <td>0.353007</td>\n",
       "      <td>0</td>\n",
       "      <td>2011</td>\n",
       "      <td>10</td>\n",
       "      <td>27</td>\n",
       "      <td>5.400000</td>\n",
       "    </tr>\n",
       "    <tr>\n",
       "      <th>6</th>\n",
       "      <td>2.650899</td>\n",
       "      <td>0</td>\n",
       "      <td>2012</td>\n",
       "      <td>4</td>\n",
       "      <td>14</td>\n",
       "      <td>13.471429</td>\n",
       "    </tr>\n",
       "    <tr>\n",
       "      <th>7</th>\n",
       "      <td>3.513837</td>\n",
       "      <td>0</td>\n",
       "      <td>2012</td>\n",
       "      <td>15</td>\n",
       "      <td>17</td>\n",
       "      <td>22.819630</td>\n",
       "    </tr>\n",
       "    <tr>\n",
       "      <th>8</th>\n",
       "      <td>0.390760</td>\n",
       "      <td>0</td>\n",
       "      <td>2012</td>\n",
       "      <td>10</td>\n",
       "      <td>17</td>\n",
       "      <td>5.315789</td>\n",
       "    </tr>\n",
       "    <tr>\n",
       "      <th>9</th>\n",
       "      <td>0.875856</td>\n",
       "      <td>0</td>\n",
       "      <td>2009</td>\n",
       "      <td>11</td>\n",
       "      <td>1</td>\n",
       "      <td>6.588000</td>\n",
       "    </tr>\n",
       "    <tr>\n",
       "      <th>10</th>\n",
       "      <td>6.485516</td>\n",
       "      <td>1</td>\n",
       "      <td>2012</td>\n",
       "      <td>6</td>\n",
       "      <td>23</td>\n",
       "      <td>25.661250</td>\n",
       "    </tr>\n",
       "  </tbody>\n",
       "</table>\n",
       "</div>"
      ],
      "text/plain": [
       "     distance  left_boro  year  hour  day  fare_amount\n",
       "0    7.857889          1  2009    17   15    34.072857\n",
       "1    2.818116          0  2010     6   26    15.420000\n",
       "2    1.141736          0  2011     3    5    19.940000\n",
       "3    0.709107          0  2012    12   19     5.130000\n",
       "4   13.002423          1  2010    12   15    49.393889\n",
       "5    0.353007          0  2011    10   27     5.400000\n",
       "6    2.650899          0  2012     4   14    13.471429\n",
       "7    3.513837          0  2012    15   17    22.819630\n",
       "8    0.390760          0  2012    10   17     5.315789\n",
       "9    0.875856          0  2009    11    1     6.588000\n",
       "10   6.485516          1  2012     6   23    25.661250"
      ]
     },
     "execution_count": 201,
     "metadata": {},
     "output_type": "execute_result"
    }
   ],
   "source": [
    "# Regression Decision Tree\n",
    "df_train = df_train.dropna()\n",
    "X_train = pd.DataFrame(df_train[['distance', 'passenger_count', 'pickup_county_transform', 'dropoff_county_transform', 'left_boro', 'pickup_airport', 'dropoff_airport', 'year', 'month', 'day', 'hour']])\n",
    "y_train = pd.DataFrame(df_train['fare_amount'])\n",
    "\n",
    "scores = []\n",
    "model_dt = DecisionTreeRegressor(max_depth = len(X_train.columns)-1, min_samples_split = 30, min_samples_leaf = 10, random_state = 0)\n",
    "kfold = KFold(n_splits = 3, shuffle = True, random_state = 42)\n",
    "for i, (train, test) in enumerate(kfold.split(X_train, y_train)):\n",
    "    model_dt.fit(X_train.iloc[train,:], y_train.iloc[train,:])\n",
    "    #Feature Importance\n",
    "    feat_imp_dt = list(zip(X_train.iloc[train,:],  model_dt.fit(X_train.iloc[train,:], y_train.iloc[train,:]).feature_importances_))\n",
    "    feat_imp_dt = pd.DataFrame(feat_imp_dt, columns=['Predictor', 'Importance Score']).sort_values(by = 'Importance Score', ascending = False)\n",
    "    print(feat_imp_dt.reset_index(drop = True))\n",
    "    score = cross_val_score(model_dt, X_train, y_train, scoring = 'neg_mean_squared_error', cv = kfold, n_jobs=1)\n",
    "    print('score:', model_dt.score(X_train.iloc[test,:], y_train.iloc[test,:]))\n",
    "    scores.append(model_dt.score(X_train.iloc[test,:], y_train.iloc[test,:]))\n",
    "    print('-'*75)\n",
    "\n",
    "print('root mean score:', sqrt(abs(np.mean(scores))))\n",
    "\n",
    "\n",
    "#Feature Importance\n",
    "feat_imp_dt = list(zip(X_train, model_dt.fit(X_train, y_train).feature_importances_))\n",
    "feat_imp_dt = pd.DataFrame(feat_imp_dt, columns=['Predictor', 'Importance Score']).sort_values(by = 'Importance Score', ascending = False)\n",
    "print(feat_imp_dt.reset_index(drop = True))\n",
    "\n",
    "\n",
    "# Make predictions using the testing set\n",
    "df_test = df_test.dropna()\n",
    "model_dt = DecisionTreeRegressor(max_depth = len(X_train.columns)-1, min_samples_split = 30, min_samples_leaf = 10, random_state = 0).fit(X_train, y_train)\n",
    "df_test_y_pred = model_dt.predict(pd.DataFrame(df_test[['distance', 'passenger_count', 'pickup_county_transform', 'dropoff_county_transform', 'left_boro', 'pickup_airport', 'dropoff_airport', 'year', 'month', 'day', 'hour']]))\n",
    "df_test['fare_amount'] = df_test_y_pred\n",
    "# df_test['fare_amount'] = np.exp(df_test_y_pred) #transform from log scale pred.\n",
    "df_test.loc[:10, ['distance', 'left_boro', 'year', 'hour', 'day', 'fare_amount']]"
   ]
  },
  {
   "cell_type": "code",
   "execution_count": 197,
   "metadata": {
    "collapsed": true
   },
   "outputs": [
    {
     "ename": "ValueError",
     "evalue": "Length of feature_names, 9 does not match number of features, 11",
     "output_type": "error",
     "traceback": [
      "\u001b[0;31m---------------------------------------------------------------------------\u001b[0m",
      "\u001b[0;31mValueError\u001b[0m                                Traceback (most recent call last)",
      "\u001b[0;32m<ipython-input-197-9fff7beacf90>\u001b[0m in \u001b[0;36m<module>\u001b[0;34m\u001b[0m\n\u001b[1;32m      1\u001b[0m \u001b[0;32mfrom\u001b[0m \u001b[0msklearn\u001b[0m\u001b[0;34m.\u001b[0m\u001b[0mtree\u001b[0m \u001b[0;32mimport\u001b[0m \u001b[0mexport_graphviz\u001b[0m\u001b[0;34m\u001b[0m\u001b[0m\n\u001b[1;32m      2\u001b[0m \u001b[0;32mimport\u001b[0m \u001b[0mgraphviz\u001b[0m\u001b[0;34m\u001b[0m\u001b[0m\n\u001b[0;32m----> 3\u001b[0;31m \u001b[0mexport_graphviz\u001b[0m\u001b[0;34m(\u001b[0m\u001b[0mmodel_dt\u001b[0m\u001b[0;34m,\u001b[0m \u001b[0mout_file\u001b[0m \u001b[0;34m=\u001b[0m\u001b[0;34m'tree.png'\u001b[0m\u001b[0;34m,\u001b[0m \u001b[0mfeature_names\u001b[0m \u001b[0;34m=\u001b[0m \u001b[0;34m[\u001b[0m\u001b[0;34m'distance'\u001b[0m\u001b[0;34m,\u001b[0m \u001b[0;34m'passenger_count'\u001b[0m\u001b[0;34m,\u001b[0m \u001b[0;34m'left_boro'\u001b[0m\u001b[0;34m,\u001b[0m \u001b[0;34m'pickup_airport'\u001b[0m\u001b[0;34m,\u001b[0m \u001b[0;34m'dropoff_airport'\u001b[0m\u001b[0;34m,\u001b[0m \u001b[0;34m'year'\u001b[0m\u001b[0;34m,\u001b[0m \u001b[0;34m'month'\u001b[0m\u001b[0;34m,\u001b[0m \u001b[0;34m'day'\u001b[0m\u001b[0;34m,\u001b[0m \u001b[0;34m'hour'\u001b[0m\u001b[0;34m]\u001b[0m\u001b[0;34m)\u001b[0m\u001b[0;34m\u001b[0m\u001b[0m\n\u001b[0m\u001b[1;32m      4\u001b[0m \u001b[0;34m\u001b[0m\u001b[0m\n\u001b[1;32m      5\u001b[0m \u001b[0;32mwith\u001b[0m \u001b[0mopen\u001b[0m\u001b[0;34m(\u001b[0m\u001b[0;34m\"tree.dot\"\u001b[0m\u001b[0;34m)\u001b[0m \u001b[0;32mas\u001b[0m \u001b[0mf\u001b[0m\u001b[0;34m:\u001b[0m\u001b[0;34m\u001b[0m\u001b[0m\n",
      "\u001b[0;32m~/Documents/Elucd/elucd/lib/python3.5/site-packages/sklearn/tree/export.py\u001b[0m in \u001b[0;36mexport_graphviz\u001b[0;34m(decision_tree, out_file, max_depth, feature_names, class_names, label, filled, leaves_parallel, impurity, node_ids, proportion, rotate, rounded, special_characters, precision)\u001b[0m\n\u001b[1;32m    774\u001b[0m             \u001b[0mrounded\u001b[0m\u001b[0;34m=\u001b[0m\u001b[0mrounded\u001b[0m\u001b[0;34m,\u001b[0m \u001b[0mspecial_characters\u001b[0m\u001b[0;34m=\u001b[0m\u001b[0mspecial_characters\u001b[0m\u001b[0;34m,\u001b[0m\u001b[0;34m\u001b[0m\u001b[0m\n\u001b[1;32m    775\u001b[0m             precision=precision)\n\u001b[0;32m--> 776\u001b[0;31m         \u001b[0mexporter\u001b[0m\u001b[0;34m.\u001b[0m\u001b[0mexport\u001b[0m\u001b[0;34m(\u001b[0m\u001b[0mdecision_tree\u001b[0m\u001b[0;34m)\u001b[0m\u001b[0;34m\u001b[0m\u001b[0m\n\u001b[0m\u001b[1;32m    777\u001b[0m \u001b[0;34m\u001b[0m\u001b[0m\n\u001b[1;32m    778\u001b[0m         \u001b[0;32mif\u001b[0m \u001b[0mreturn_string\u001b[0m\u001b[0;34m:\u001b[0m\u001b[0;34m\u001b[0m\u001b[0m\n",
      "\u001b[0;32m~/Documents/Elucd/elucd/lib/python3.5/site-packages/sklearn/tree/export.py\u001b[0m in \u001b[0;36mexport\u001b[0;34m(self, decision_tree)\u001b[0m\n\u001b[1;32m    399\u001b[0m                                  \u001b[0;34m\"does not match number of features, %d\"\u001b[0m\u001b[0;34m\u001b[0m\u001b[0m\n\u001b[1;32m    400\u001b[0m                                  % (len(self.feature_names),\n\u001b[0;32m--> 401\u001b[0;31m                                     decision_tree.n_features_))\n\u001b[0m\u001b[1;32m    402\u001b[0m         \u001b[0;31m# each part writes to out_file\u001b[0m\u001b[0;34m\u001b[0m\u001b[0;34m\u001b[0m\u001b[0m\n\u001b[1;32m    403\u001b[0m         \u001b[0mself\u001b[0m\u001b[0;34m.\u001b[0m\u001b[0mhead\u001b[0m\u001b[0;34m(\u001b[0m\u001b[0;34m)\u001b[0m\u001b[0;34m\u001b[0m\u001b[0m\n",
      "\u001b[0;31mValueError\u001b[0m: Length of feature_names, 9 does not match number of features, 11"
     ]
    }
   ],
   "source": [
    "from sklearn.tree import export_graphviz\n",
    "import graphviz\n",
    "export_graphviz(model_dt, out_file ='tree.png', feature_names = ['distance', 'passenger_count', 'left_boro', 'pickup_airport', 'dropoff_airport', 'year', 'month', 'day', 'hour'])\n",
    "\n",
    "with open(\"tree.dot\") as f:\n",
    "    dot_graph = f.read()\n",
    "graphviz.Source(dot_graph)"
   ]
  },
  {
   "cell_type": "code",
   "execution_count": 198,
   "metadata": {},
   "outputs": [
    {
     "name": "stdout",
     "output_type": "stream",
     "text": [
      "                   Predictor  Importance Score\n",
      "0                   distance          0.824498\n",
      "1                        day          0.037253\n",
      "2                       year          0.035560\n",
      "3                       hour          0.028792\n",
      "4                      month          0.024184\n",
      "5            passenger_count          0.017766\n",
      "6    pickup_county_transform          0.014015\n",
      "7   dropoff_county_transform          0.010949\n",
      "8                  left_boro          0.006983\n",
      "9             pickup_airport          0.000000\n",
      "10           dropoff_airport          0.000000\n",
      "score: 0.6658840628183016\n",
      "---------------------------------------------------------------------------\n",
      "                   Predictor  Importance Score\n",
      "0                   distance          0.780378\n",
      "1                      month          0.039847\n",
      "2                       hour          0.037127\n",
      "3                       year          0.035274\n",
      "4                        day          0.031971\n",
      "5    pickup_county_transform          0.028146\n",
      "6   dropoff_county_transform          0.023064\n",
      "7            passenger_count          0.014472\n",
      "8                  left_boro          0.009720\n",
      "9             pickup_airport          0.000000\n",
      "10           dropoff_airport          0.000000\n",
      "score: 0.7211063628179317\n",
      "---------------------------------------------------------------------------\n",
      "                   Predictor  Importance Score\n",
      "0                   distance          0.801055\n",
      "1                      month          0.035479\n",
      "2                       year          0.033670\n",
      "3                       hour          0.032012\n",
      "4                        day          0.029466\n",
      "5   dropoff_county_transform          0.021066\n",
      "6                  left_boro          0.020539\n",
      "7    pickup_county_transform          0.015905\n",
      "8            passenger_count          0.010808\n",
      "9             pickup_airport          0.000000\n",
      "10           dropoff_airport          0.000000\n",
      "score: 0.7189111799689922\n",
      "---------------------------------------------------------------------------\n",
      "avg_rmse: 0.8378348297059561\n",
      "                   Predictor  Importance Score\n",
      "0                   distance          0.807812\n",
      "1                       year          0.038090\n",
      "2                      month          0.035197\n",
      "3                       hour          0.030665\n",
      "4                        day          0.028578\n",
      "5   dropoff_county_transform          0.022300\n",
      "6            passenger_count          0.016252\n",
      "7    pickup_county_transform          0.013315\n",
      "8                  left_boro          0.007791\n",
      "9             pickup_airport          0.000000\n",
      "10           dropoff_airport          0.000000\n"
     ]
    },
    {
     "data": {
      "text/html": [
       "<div>\n",
       "<style scoped>\n",
       "    .dataframe tbody tr th:only-of-type {\n",
       "        vertical-align: middle;\n",
       "    }\n",
       "\n",
       "    .dataframe tbody tr th {\n",
       "        vertical-align: top;\n",
       "    }\n",
       "\n",
       "    .dataframe thead th {\n",
       "        text-align: right;\n",
       "    }\n",
       "</style>\n",
       "<table border=\"1\" class=\"dataframe\">\n",
       "  <thead>\n",
       "    <tr style=\"text-align: right;\">\n",
       "      <th></th>\n",
       "      <th>distance</th>\n",
       "      <th>left_boro</th>\n",
       "      <th>year</th>\n",
       "      <th>hour</th>\n",
       "      <th>day</th>\n",
       "      <th>fare_amount</th>\n",
       "    </tr>\n",
       "  </thead>\n",
       "  <tbody>\n",
       "    <tr>\n",
       "      <th>0</th>\n",
       "      <td>7.857889</td>\n",
       "      <td>1</td>\n",
       "      <td>2009</td>\n",
       "      <td>17</td>\n",
       "      <td>15</td>\n",
       "      <td>32.0412</td>\n",
       "    </tr>\n",
       "    <tr>\n",
       "      <th>1</th>\n",
       "      <td>2.818116</td>\n",
       "      <td>0</td>\n",
       "      <td>2010</td>\n",
       "      <td>6</td>\n",
       "      <td>26</td>\n",
       "      <td>14.8216</td>\n",
       "    </tr>\n",
       "    <tr>\n",
       "      <th>2</th>\n",
       "      <td>1.141736</td>\n",
       "      <td>0</td>\n",
       "      <td>2011</td>\n",
       "      <td>3</td>\n",
       "      <td>5</td>\n",
       "      <td>13.5716</td>\n",
       "    </tr>\n",
       "    <tr>\n",
       "      <th>3</th>\n",
       "      <td>0.709107</td>\n",
       "      <td>0</td>\n",
       "      <td>2012</td>\n",
       "      <td>12</td>\n",
       "      <td>19</td>\n",
       "      <td>6.4540</td>\n",
       "    </tr>\n",
       "    <tr>\n",
       "      <th>4</th>\n",
       "      <td>13.002423</td>\n",
       "      <td>1</td>\n",
       "      <td>2010</td>\n",
       "      <td>12</td>\n",
       "      <td>15</td>\n",
       "      <td>49.1463</td>\n",
       "    </tr>\n",
       "    <tr>\n",
       "      <th>5</th>\n",
       "      <td>0.353007</td>\n",
       "      <td>0</td>\n",
       "      <td>2011</td>\n",
       "      <td>10</td>\n",
       "      <td>27</td>\n",
       "      <td>5.8580</td>\n",
       "    </tr>\n",
       "    <tr>\n",
       "      <th>6</th>\n",
       "      <td>2.650899</td>\n",
       "      <td>0</td>\n",
       "      <td>2012</td>\n",
       "      <td>4</td>\n",
       "      <td>14</td>\n",
       "      <td>15.3990</td>\n",
       "    </tr>\n",
       "    <tr>\n",
       "      <th>7</th>\n",
       "      <td>3.513837</td>\n",
       "      <td>0</td>\n",
       "      <td>2012</td>\n",
       "      <td>15</td>\n",
       "      <td>17</td>\n",
       "      <td>21.3913</td>\n",
       "    </tr>\n",
       "    <tr>\n",
       "      <th>8</th>\n",
       "      <td>0.390760</td>\n",
       "      <td>0</td>\n",
       "      <td>2012</td>\n",
       "      <td>10</td>\n",
       "      <td>17</td>\n",
       "      <td>7.2330</td>\n",
       "    </tr>\n",
       "    <tr>\n",
       "      <th>9</th>\n",
       "      <td>0.875856</td>\n",
       "      <td>0</td>\n",
       "      <td>2009</td>\n",
       "      <td>11</td>\n",
       "      <td>1</td>\n",
       "      <td>7.9320</td>\n",
       "    </tr>\n",
       "    <tr>\n",
       "      <th>10</th>\n",
       "      <td>6.485516</td>\n",
       "      <td>1</td>\n",
       "      <td>2012</td>\n",
       "      <td>6</td>\n",
       "      <td>23</td>\n",
       "      <td>27.1198</td>\n",
       "    </tr>\n",
       "  </tbody>\n",
       "</table>\n",
       "</div>"
      ],
      "text/plain": [
       "     distance  left_boro  year  hour  day  fare_amount\n",
       "0    7.857889          1  2009    17   15      32.0412\n",
       "1    2.818116          0  2010     6   26      14.8216\n",
       "2    1.141736          0  2011     3    5      13.5716\n",
       "3    0.709107          0  2012    12   19       6.4540\n",
       "4   13.002423          1  2010    12   15      49.1463\n",
       "5    0.353007          0  2011    10   27       5.8580\n",
       "6    2.650899          0  2012     4   14      15.3990\n",
       "7    3.513837          0  2012    15   17      21.3913\n",
       "8    0.390760          0  2012    10   17       7.2330\n",
       "9    0.875856          0  2009    11    1       7.9320\n",
       "10   6.485516          1  2012     6   23      27.1198"
      ]
     },
     "execution_count": 198,
     "metadata": {},
     "output_type": "execute_result"
    }
   ],
   "source": [
    "# Regression Random Forest\n",
    "df_train = df_train.dropna()\n",
    "X_train = pd.DataFrame(df_train[['distance', 'passenger_count', 'pickup_county_transform', 'dropoff_county_transform', 'left_boro', 'pickup_airport', 'dropoff_airport', 'year', 'month', 'day', 'hour']])\n",
    "y_train = pd.DataFrame(df_train['fare_amount'])\n",
    "\n",
    "scores = []\n",
    "model_rf = RandomForestRegressor(bootstrap = True, n_estimators = 100)\n",
    "kfold = KFold(n_splits = 3, shuffle = True, random_state = 42)\n",
    "for i, (train, test) in enumerate(kfold.split(X_train, y_train)):\n",
    "    model_rf.fit(X_train.iloc[train,:], y_train.iloc[train,:])\n",
    "    #Feature Importance\n",
    "    feat_imp_rf = list(zip(X_train.iloc[train,:],  model_rf.fit(X_train.iloc[train,:], y_train.iloc[train,:]).feature_importances_))\n",
    "    feat_imp_rf = pd.DataFrame(feat_imp_rf, columns=['Predictor', 'Importance Score']).sort_values(by = 'Importance Score', ascending = False)\n",
    "    print(feat_imp_rf.reset_index(drop = True))\n",
    "    score = cross_val_score(model_rf, X_train, y_train, scoring = 'neg_mean_squared_error', cv = kfold, n_jobs=1)\n",
    "    print('score:', model_rf.score(X_train.iloc[test,:], y_train.iloc[test,:]))\n",
    "    scores.append(model_rf.score(X_train.iloc[test,:], y_train.iloc[test,:]))\n",
    "    print('-'*75)\n",
    "\n",
    "print('avg_rmse:', sqrt(abs(np.mean(scores))))\n",
    "\n",
    "#Feature Importance\n",
    "feat_imp_rf = list(zip(X_train, model_rf.fit(X_train, y_train).feature_importances_))\n",
    "feat_imp_rf = pd.DataFrame(feat_imp_rf, columns=['Predictor', 'Importance Score']).sort_values(by = 'Importance Score', ascending = False)\n",
    "print(feat_imp_rf.reset_index(drop = True))\n",
    "\n",
    "\n",
    "# Make predictions using the testing set\n",
    "df_test = df_test.dropna()\n",
    "model_rf = RandomForestRegressor(bootstrap = True, n_estimators = 100).fit(X_train, y_train)\n",
    "df_test_y_pred = model_rf.predict(pd.DataFrame(df_test[['distance', 'passenger_count', 'pickup_county_transform', 'dropoff_county_transform', 'left_boro', 'pickup_airport', 'dropoff_airport', 'year', 'month', 'day', 'hour']]))\n",
    "df_test['fare_amount'] = df_test_y_pred\n",
    "# df_test['fare_amount'] = np.exp(df_test_y_pred) #transform from log scale pred.\n",
    "df_test.loc[:10, ['distance', 'left_boro', 'year', 'hour', 'day', 'fare_amount']]\n"
   ]
  },
  {
   "cell_type": "code",
   "execution_count": 54,
   "metadata": {},
   "outputs": [],
   "source": [
    "#Create a grid for tuning parameters\n",
    "n_estimators = [int(x) for x in np.linspace(start = 200, stop = 2000, num = 10)]\n",
    "max_features = ['auto', 'sqrt']\n",
    "max_depth = [int(x) for x in np.linspace(10, 110, num = 11)]\n",
    "max_depth.append(None)\n",
    "min_samples_split = [2, 5, 10]\n",
    "min_samples_leaf = [1, 2, 4]\n",
    "bootstrap = [True, False]\n",
    "random_grid = {'n_estimators': n_estimators,\n",
    "               'max_features': max_features,\n",
    "               'max_depth': max_depth,\n",
    "               'min_samples_split': min_samples_split,\n",
    "               'min_samples_leaf': min_samples_leaf,\n",
    "               'bootstrap': bootstrap}"
   ]
  },
  {
   "cell_type": "code",
   "execution_count": 56,
   "metadata": {},
   "outputs": [
    {
     "name": "stdout",
     "output_type": "stream",
     "text": [
      "Fitting 3 folds for each of 100 candidates, totalling 300 fits\n"
     ]
    },
    {
     "name": "stderr",
     "output_type": "stream",
     "text": [
      "[Parallel(n_jobs=-1)]: Using backend LokyBackend with 8 concurrent workers.\n",
      "[Parallel(n_jobs=-1)]: Done  25 tasks      | elapsed:   17.8s\n",
      "[Parallel(n_jobs=-1)]: Done 146 tasks      | elapsed:  1.3min\n",
      "[Parallel(n_jobs=-1)]: Done 300 out of 300 | elapsed:  2.8min finished\n"
     ]
    },
    {
     "data": {
      "text/plain": [
       "RandomizedSearchCV(cv=3, error_score='raise-deprecating',\n",
       "                   estimator=RandomForestRegressor(bootstrap=True,\n",
       "                                                   criterion='mse',\n",
       "                                                   max_depth=None,\n",
       "                                                   max_features='auto',\n",
       "                                                   max_leaf_nodes=None,\n",
       "                                                   min_impurity_decrease=0.0,\n",
       "                                                   min_impurity_split=None,\n",
       "                                                   min_samples_leaf=1,\n",
       "                                                   min_samples_split=2,\n",
       "                                                   min_weight_fraction_leaf=0.0,\n",
       "                                                   n_estimators='warn',\n",
       "                                                   n_jobs=None, oob_score=False,\n",
       "                                                   random_sta...\n",
       "                   param_distributions={'bootstrap': [True, False],\n",
       "                                        'max_depth': [10, 20, 30, 40, 50, 60,\n",
       "                                                      70, 80, 90, 100, 110,\n",
       "                                                      None],\n",
       "                                        'max_features': ['auto', 'sqrt'],\n",
       "                                        'min_samples_leaf': [1, 2, 4],\n",
       "                                        'min_samples_split': [2, 5, 10],\n",
       "                                        'n_estimators': [200, 400, 600, 800,\n",
       "                                                         1000, 1200, 1400, 1600,\n",
       "                                                         1800, 2000]},\n",
       "                   pre_dispatch='2*n_jobs', random_state=42, refit=True,\n",
       "                   return_train_score=False, scoring=None, verbose=2)"
      ]
     },
     "execution_count": 56,
     "metadata": {},
     "output_type": "execute_result"
    }
   ],
   "source": [
    "from sklearn.model_selection import RandomizedSearchCV\n",
    "\n",
    "rf = RandomForestRegressor()\n",
    "rf_random = RandomizedSearchCV(estimator = rf, param_distributions = random_grid, n_iter = 100, cv = 3, verbose=2, random_state=42, n_jobs = -1)\n",
    "rf_random.fit(X_train, y_train)\n",
    "\n"
   ]
  },
  {
   "cell_type": "code",
   "execution_count": 57,
   "metadata": {},
   "outputs": [
    {
     "data": {
      "text/plain": [
       "{'bootstrap': True,\n",
       " 'max_depth': 70,\n",
       " 'max_features': 'auto',\n",
       " 'min_samples_leaf': 4,\n",
       " 'min_samples_split': 10,\n",
       " 'n_estimators': 400}"
      ]
     },
     "execution_count": 57,
     "metadata": {},
     "output_type": "execute_result"
    }
   ],
   "source": [
    "rf_random.best_params_"
   ]
  },
  {
   "cell_type": "code",
   "execution_count": 202,
   "metadata": {},
   "outputs": [
    {
     "name": "stdout",
     "output_type": "stream",
     "text": [
      "                   Predictor  Importance Score\n",
      "0                   distance          0.905353\n",
      "1                       year          0.028410\n",
      "2                       hour          0.016598\n",
      "3                        day          0.015077\n",
      "4                      month          0.011087\n",
      "5   dropoff_county_transform          0.010964\n",
      "6                  left_boro          0.006438\n",
      "7    pickup_county_transform          0.003555\n",
      "8            passenger_count          0.002519\n",
      "9             pickup_airport          0.000000\n",
      "10           dropoff_airport          0.000000\n",
      "score: 0.6506736566996761\n",
      "---------------------------------------------------------------------------\n",
      "                   Predictor  Importance Score\n",
      "0                   distance          0.867794\n",
      "1                       year          0.025399\n",
      "2   dropoff_county_transform          0.024905\n",
      "3                      month          0.021040\n",
      "4                       hour          0.021005\n",
      "5                        day          0.018073\n",
      "6    pickup_county_transform          0.010221\n",
      "7                  left_boro          0.006382\n",
      "8            passenger_count          0.005182\n",
      "9             pickup_airport          0.000000\n",
      "10           dropoff_airport          0.000000\n",
      "score: 0.8077522935856811\n",
      "---------------------------------------------------------------------------\n",
      "                   Predictor  Importance Score\n",
      "0                   distance          0.890324\n",
      "1                       hour          0.022485\n",
      "2                       year          0.021869\n",
      "3                        day          0.018359\n",
      "4   dropoff_county_transform          0.017094\n",
      "5                      month          0.013455\n",
      "6                  left_boro          0.012289\n",
      "7            passenger_count          0.002232\n",
      "8    pickup_county_transform          0.001894\n",
      "9             pickup_airport          0.000000\n",
      "10           dropoff_airport          0.000000\n",
      "score: 0.6956114065010444\n",
      "---------------------------------------------------------------------------\n",
      "root mean score: 0.8473561543189109\n",
      "                   Predictor  Importance Score\n",
      "0                   distance          0.878063\n",
      "1                       year          0.029930\n",
      "2   dropoff_county_transform          0.018078\n",
      "3                        day          0.017984\n",
      "4                       hour          0.017666\n",
      "5                      month          0.016483\n",
      "6    pickup_county_transform          0.010003\n",
      "7                  left_boro          0.008904\n",
      "8            passenger_count          0.002889\n",
      "9             pickup_airport          0.000000\n",
      "10           dropoff_airport          0.000000\n"
     ]
    },
    {
     "data": {
      "text/html": [
       "<div>\n",
       "<style scoped>\n",
       "    .dataframe tbody tr th:only-of-type {\n",
       "        vertical-align: middle;\n",
       "    }\n",
       "\n",
       "    .dataframe tbody tr th {\n",
       "        vertical-align: top;\n",
       "    }\n",
       "\n",
       "    .dataframe thead th {\n",
       "        text-align: right;\n",
       "    }\n",
       "</style>\n",
       "<table border=\"1\" class=\"dataframe\">\n",
       "  <thead>\n",
       "    <tr style=\"text-align: right;\">\n",
       "      <th></th>\n",
       "      <th>distance</th>\n",
       "      <th>left_boro</th>\n",
       "      <th>year</th>\n",
       "      <th>hour</th>\n",
       "      <th>day</th>\n",
       "      <th>fare_amount</th>\n",
       "    </tr>\n",
       "  </thead>\n",
       "  <tbody>\n",
       "    <tr>\n",
       "      <th>0</th>\n",
       "      <td>7.857889</td>\n",
       "      <td>1</td>\n",
       "      <td>2009</td>\n",
       "      <td>17</td>\n",
       "      <td>15</td>\n",
       "      <td>32.4050</td>\n",
       "    </tr>\n",
       "    <tr>\n",
       "      <th>1</th>\n",
       "      <td>2.818116</td>\n",
       "      <td>0</td>\n",
       "      <td>2010</td>\n",
       "      <td>6</td>\n",
       "      <td>26</td>\n",
       "      <td>14.8170</td>\n",
       "    </tr>\n",
       "    <tr>\n",
       "      <th>2</th>\n",
       "      <td>1.141736</td>\n",
       "      <td>0</td>\n",
       "      <td>2011</td>\n",
       "      <td>3</td>\n",
       "      <td>5</td>\n",
       "      <td>11.9995</td>\n",
       "    </tr>\n",
       "    <tr>\n",
       "      <th>3</th>\n",
       "      <td>0.709107</td>\n",
       "      <td>0</td>\n",
       "      <td>2012</td>\n",
       "      <td>12</td>\n",
       "      <td>19</td>\n",
       "      <td>6.4330</td>\n",
       "    </tr>\n",
       "    <tr>\n",
       "      <th>4</th>\n",
       "      <td>13.002423</td>\n",
       "      <td>1</td>\n",
       "      <td>2010</td>\n",
       "      <td>12</td>\n",
       "      <td>15</td>\n",
       "      <td>48.8160</td>\n",
       "    </tr>\n",
       "    <tr>\n",
       "      <th>5</th>\n",
       "      <td>0.353007</td>\n",
       "      <td>0</td>\n",
       "      <td>2011</td>\n",
       "      <td>10</td>\n",
       "      <td>27</td>\n",
       "      <td>6.1790</td>\n",
       "    </tr>\n",
       "    <tr>\n",
       "      <th>6</th>\n",
       "      <td>2.650899</td>\n",
       "      <td>0</td>\n",
       "      <td>2012</td>\n",
       "      <td>4</td>\n",
       "      <td>14</td>\n",
       "      <td>15.4940</td>\n",
       "    </tr>\n",
       "    <tr>\n",
       "      <th>7</th>\n",
       "      <td>3.513837</td>\n",
       "      <td>0</td>\n",
       "      <td>2012</td>\n",
       "      <td>15</td>\n",
       "      <td>17</td>\n",
       "      <td>20.2920</td>\n",
       "    </tr>\n",
       "    <tr>\n",
       "      <th>8</th>\n",
       "      <td>0.390760</td>\n",
       "      <td>0</td>\n",
       "      <td>2012</td>\n",
       "      <td>10</td>\n",
       "      <td>17</td>\n",
       "      <td>7.4400</td>\n",
       "    </tr>\n",
       "    <tr>\n",
       "      <th>9</th>\n",
       "      <td>0.875856</td>\n",
       "      <td>0</td>\n",
       "      <td>2009</td>\n",
       "      <td>11</td>\n",
       "      <td>1</td>\n",
       "      <td>8.3480</td>\n",
       "    </tr>\n",
       "    <tr>\n",
       "      <th>10</th>\n",
       "      <td>6.485516</td>\n",
       "      <td>1</td>\n",
       "      <td>2012</td>\n",
       "      <td>6</td>\n",
       "      <td>23</td>\n",
       "      <td>27.3900</td>\n",
       "    </tr>\n",
       "  </tbody>\n",
       "</table>\n",
       "</div>"
      ],
      "text/plain": [
       "     distance  left_boro  year  hour  day  fare_amount\n",
       "0    7.857889          1  2009    17   15      32.4050\n",
       "1    2.818116          0  2010     6   26      14.8170\n",
       "2    1.141736          0  2011     3    5      11.9995\n",
       "3    0.709107          0  2012    12   19       6.4330\n",
       "4   13.002423          1  2010    12   15      48.8160\n",
       "5    0.353007          0  2011    10   27       6.1790\n",
       "6    2.650899          0  2012     4   14      15.4940\n",
       "7    3.513837          0  2012    15   17      20.2920\n",
       "8    0.390760          0  2012    10   17       7.4400\n",
       "9    0.875856          0  2009    11    1       8.3480\n",
       "10   6.485516          1  2012     6   23      27.3900"
      ]
     },
     "execution_count": 202,
     "metadata": {},
     "output_type": "execute_result"
    }
   ],
   "source": [
    "# Regression Random Forest\n",
    "df_train = df_train.dropna()\n",
    "X_train = pd.DataFrame(df_train[['distance', 'passenger_count', 'pickup_county_transform', 'dropoff_county_transform', 'left_boro', 'pickup_airport', 'dropoff_airport', 'year', 'month', 'day', 'hour']])\n",
    "y_train = pd.DataFrame(df_train['fare_amount'])\n",
    "\n",
    "scores = []\n",
    "model_rf = RandomForestRegressor(bootstrap = True, n_estimators = 400, max_depth = 70, max_features = 'auto', min_samples_leaf = 4, min_samples_split = 10)\n",
    "kfold = KFold(n_splits = 3, shuffle = True, random_state = 42)\n",
    "for i, (train, test) in enumerate(kfold.split(X_train, y_train)):\n",
    "    model_rf.fit(X_train.iloc[train,:], y_train.iloc[train,:])\n",
    "    #Feature Importance\n",
    "    feat_imp_rf = list(zip(X_train.iloc[train,:],  model_rf.fit(X_train.iloc[train,:], y_train.iloc[train,:]).feature_importances_))\n",
    "    feat_imp_rf = pd.DataFrame(feat_imp_rf, columns=['Predictor', 'Importance Score']).sort_values(by = 'Importance Score', ascending = False)\n",
    "    print(feat_imp_rf.reset_index(drop = True))\n",
    "    score = cross_val_score(model_rf, X_train, y_train, scoring = 'neg_mean_squared_error', cv = kfold, n_jobs=1)\n",
    "    print('score:', model_rf.score(X_train.iloc[test,:], y_train.iloc[test,:]))\n",
    "    scores.append(model_rf.score(X_train.iloc[test,:], y_train.iloc[test,:]))\n",
    "    print('-'*75)\n",
    "\n",
    "print('root mean score:', sqrt(abs(np.mean(scores))))\n",
    "\n",
    "#Feature Importance\n",
    "feat_imp_rf = list(zip(X_train, model_rf.fit(X_train, y_train).feature_importances_))\n",
    "feat_imp_rf = pd.DataFrame(feat_imp_rf, columns=['Predictor', 'Importance Score']).sort_values(by = 'Importance Score', ascending = False)\n",
    "print(feat_imp_rf.reset_index(drop = True))\n",
    "\n",
    "# Make predictions using the testing set\n",
    "df_test = df_test.dropna()\n",
    "model_rf = RandomForestRegressor(bootstrap = True, n_estimators = 100).fit(X_train, y_train)\n",
    "df_test_y_pred = model_rf.predict(pd.DataFrame(df_test[['distance', 'passenger_count', 'pickup_county_transform', 'dropoff_county_transform', 'left_boro', 'pickup_airport', 'dropoff_airport', 'year', 'month', 'day', 'hour']]))\n",
    "df_test['fare_amount'] = df_test_y_pred\n",
    "# df_test['fare_amount'] = np.exp(df_test_y_pred) #transform from log scale pred.\n",
    "df_test.loc[:10, ['distance', 'left_boro', 'year', 'hour', 'day', 'fare_amount']]"
   ]
  },
  {
   "cell_type": "code",
   "execution_count": 119,
   "metadata": {},
   "outputs": [],
   "source": [
    "output = df_test.loc[:, ['pickup_datetime'`, 'fare_amount']]\n",
    "df_test.to_csv('output.csv')"
   ]
  },
  {
   "cell_type": "code",
   "execution_count": 207,
   "metadata": {},
   "outputs": [
    {
     "data": {
      "text/plain": [
       "<matplotlib.axes._subplots.AxesSubplot at 0x135a4c908>"
      ]
     },
     "execution_count": 207,
     "metadata": {},
     "output_type": "execute_result"
    },
    {
     "data": {
      "image/png": "[encoded data removed]",
      "text/plain": [
       "<Figure size 432x288 with 1 Axes>"
      ]
     },
     "metadata": {
      "needs_background": "light"
     },
     "output_type": "display_data"
    }
   ],
   "source": [
    "gra = pd.DataFrame({'Model' : ['Linear Regression', 'Decision Tree', 'Random Forest', 'Linear Regression', 'Decision Tree', 'Random Forest', 'Linear Regression', 'Decision Tree', 'Random Forest'], 'RMSE': [0.61, 0.60, 0.65, 0.81, 0.75, 0.81, 0.65, 0.66, 0.70]})\n",
    "\n",
    "sns.barplot(x = 'Model', y = 'RMSE', data = gra)\n"
   ]
  },
  {
   "cell_type": "code",
   "execution_count": 172,
   "metadata": {},
   "outputs": [
    {
     "data": {
      "text/html": [
       "<div>\n",
       "<style scoped>\n",
       "    .dataframe tbody tr th:only-of-type {\n",
       "        vertical-align: middle;\n",
       "    }\n",
       "\n",
       "    .dataframe tbody tr th {\n",
       "        vertical-align: top;\n",
       "    }\n",
       "\n",
       "    .dataframe thead th {\n",
       "        text-align: right;\n",
       "    }\n",
       "</style>\n",
       "<table border=\"1\" class=\"dataframe\">\n",
       "  <thead>\n",
       "    <tr style=\"text-align: right;\">\n",
       "      <th></th>\n",
       "      <th>total_bill</th>\n",
       "      <th>tip</th>\n",
       "      <th>sex</th>\n",
       "      <th>smoker</th>\n",
       "      <th>day</th>\n",
       "      <th>time</th>\n",
       "      <th>size</th>\n",
       "    </tr>\n",
       "  </thead>\n",
       "  <tbody>\n",
       "    <tr>\n",
       "      <th>0</th>\n",
       "      <td>16.99</td>\n",
       "      <td>1.01</td>\n",
       "      <td>Female</td>\n",
       "      <td>No</td>\n",
       "      <td>Sun</td>\n",
       "      <td>Dinner</td>\n",
       "      <td>2</td>\n",
       "    </tr>\n",
       "    <tr>\n",
       "      <th>1</th>\n",
       "      <td>10.34</td>\n",
       "      <td>1.66</td>\n",
       "      <td>Male</td>\n",
       "      <td>No</td>\n",
       "      <td>Sun</td>\n",
       "      <td>Dinner</td>\n",
       "      <td>3</td>\n",
       "    </tr>\n",
       "    <tr>\n",
       "      <th>2</th>\n",
       "      <td>21.01</td>\n",
       "      <td>3.50</td>\n",
       "      <td>Male</td>\n",
       "      <td>No</td>\n",
       "      <td>Sun</td>\n",
       "      <td>Dinner</td>\n",
       "      <td>3</td>\n",
       "    </tr>\n",
       "    <tr>\n",
       "      <th>3</th>\n",
       "      <td>23.68</td>\n",
       "      <td>3.31</td>\n",
       "      <td>Male</td>\n",
       "      <td>No</td>\n",
       "      <td>Sun</td>\n",
       "      <td>Dinner</td>\n",
       "      <td>2</td>\n",
       "    </tr>\n",
       "    <tr>\n",
       "      <th>4</th>\n",
       "      <td>24.59</td>\n",
       "      <td>3.61</td>\n",
       "      <td>Female</td>\n",
       "      <td>No</td>\n",
       "      <td>Sun</td>\n",
       "      <td>Dinner</td>\n",
       "      <td>4</td>\n",
       "    </tr>\n",
       "  </tbody>\n",
       "</table>\n",
       "</div>"
      ],
      "text/plain": [
       "   total_bill   tip     sex smoker  day    time  size\n",
       "0       16.99  1.01  Female     No  Sun  Dinner     2\n",
       "1       10.34  1.66    Male     No  Sun  Dinner     3\n",
       "2       21.01  3.50    Male     No  Sun  Dinner     3\n",
       "3       23.68  3.31    Male     No  Sun  Dinner     2\n",
       "4       24.59  3.61  Female     No  Sun  Dinner     4"
      ]
     },
     "execution_count": 172,
     "metadata": {},
     "output_type": "execute_result"
    }
   ],
   "source": [
    "import seaborn as sns\n",
    "tips = sns.load_dataset(\"tips\")\n",
    "tips.head()"
   ]
  },
  {
   "cell_type": "markdown",
   "metadata": {},
   "source": [
    "## Final Conclusions\n",
    "\n",
    "The ability to predidct taxi fare is a valuable feature for consumers in the current ride for hire market. By engineering features and tuning parameters a Random Forest learner was able to predict fare_amount with a RMSE of $4.92.\n",
    "\n",
    "Hypothesis 1 is accepted due to the linear relationship between fare_amount and distance travelled. However, distance alone shoes an average rmse of $12.20. Hypothesis 2 is accepted (null rejected) as additional features improved the model. Hypothesis 3 is accepted as a Random Forest demonstrated the lowest error. \n",
    "\n",
    "Future improvements would include capturing dropoff_datetime. This information would allow for several additional features such as ride_time, average_speed both of which have fare implications according to https://www1.nyc.gov/site/tlc/passengers/taxi-fare.page.\n",
    "\n"
   ]
  }
 ],
 "metadata": {
  "kernelspec": {
   "display_name": "Python 3",
   "language": "python",
   "name": "python3"
  },
  "language_info": {
   "codemirror_mode": {
    "name": "ipython",
    "version": 3
   },
   "file_extension": ".py",
   "mimetype": "text/x-python",
   "name": "python",
   "nbconvert_exporter": "python",
   "pygments_lexer": "ipython3",
   "version": "3.5.2"
  }
 },
 "nbformat": 4,
 "nbformat_minor": 2
}
